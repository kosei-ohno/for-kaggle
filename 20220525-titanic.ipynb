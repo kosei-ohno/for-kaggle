{
 "cells": [
  {
   "cell_type": "code",
   "execution_count": 1,
   "id": "ce844bb4",
   "metadata": {
    "_cell_guid": "b1076dfc-b9ad-4769-8c92-a6c4dae69d19",
    "_uuid": "8f2839f25d086af736a60e9eeb907d3b93b6e0e5",
    "execution": {
     "iopub.execute_input": "2022-06-15T16:10:56.140370Z",
     "iopub.status.busy": "2022-06-15T16:10:56.139701Z",
     "iopub.status.idle": "2022-06-15T16:10:56.155508Z",
     "shell.execute_reply": "2022-06-15T16:10:56.154548Z"
    },
    "papermill": {
     "duration": 0.059979,
     "end_time": "2022-06-15T16:10:56.158433",
     "exception": false,
     "start_time": "2022-06-15T16:10:56.098454",
     "status": "completed"
    },
    "tags": []
   },
   "outputs": [
    {
     "name": "stdout",
     "output_type": "stream",
     "text": [
      "/kaggle/input/titanic/train.csv\n",
      "/kaggle/input/titanic/test.csv\n",
      "/kaggle/input/titanic/gender_submission.csv\n"
     ]
    }
   ],
   "source": [
    "# This Python 3 environment comes with many helpful analytics libraries installed\n",
    "# It is defined by the kaggle/python Docker image: https://github.com/kaggle/docker-python\n",
    "# For example, here's several helpful packages to load\n",
    "\n",
    "import numpy as np # linear algebra\n",
    "import pandas as pd # data processing, CSV file I/O (e.g. pd.read_csv)\n",
    "\n",
    "# Input data files are available in the read-only \"../input/\" directory\n",
    "# For example, running this (by clicking run or pressing Shift+Enter) will list all files under the input directory\n",
    "\n",
    "import os\n",
    "for dirname, _, filenames in os.walk('/kaggle/input'):\n",
    "    for filename in filenames:\n",
    "        print(os.path.join(dirname, filename))\n",
    "\n",
    "# You can write up to 20GB to the current directory (/kaggle/working/) that gets preserved as output when you create a version using \"Save & Run All\" \n",
    "# You can also write temporary files to /kaggle/temp/, but they won't be saved outside of the current session"
   ]
  },
  {
   "cell_type": "markdown",
   "id": "eda8a42c",
   "metadata": {
    "papermill": {
     "duration": 0.038273,
     "end_time": "2022-06-15T16:10:56.237320",
     "exception": false,
     "start_time": "2022-06-15T16:10:56.199047",
     "status": "completed"
    },
    "tags": []
   },
   "source": []
  },
  {
   "cell_type": "code",
   "execution_count": 2,
   "id": "f8ac9d6c",
   "metadata": {
    "execution": {
     "iopub.execute_input": "2022-06-15T16:10:56.315802Z",
     "iopub.status.busy": "2022-06-15T16:10:56.315207Z",
     "iopub.status.idle": "2022-06-15T16:10:56.324624Z",
     "shell.execute_reply": "2022-06-15T16:10:56.323582Z"
    },
    "papermill": {
     "duration": 0.051309,
     "end_time": "2022-06-15T16:10:56.326724",
     "exception": false,
     "start_time": "2022-06-15T16:10:56.275415",
     "status": "completed"
    },
    "tags": []
   },
   "outputs": [
    {
     "data": {
      "text/plain": [
       "\"\\n流れ\\ntrainデータとtestデータの読み込み\\n↓\\nXに説明変数、yに目的変数を設定\\n↓\\ntrainデータをtrainとtestに分ける\\n↓\\nこんな感じ\\nX_train\\nX_test\\ny_train\\ny_test\\n↓\\n学習:knn.fit(X_train, y_train)\\nテスト：knn.score(X_test,y_test)\\n↓\\nテストデータ：X_for_submit = test[['Pclass', 'SibSp', 'Parch']]\\n\\nsubmit = test[['PassengerId']]\\nsubmit['Survived'] = knn.predict(X_for_submit) (predictで予測し、予測した値をsubmitに入れる)\\n\\n\""
      ]
     },
     "execution_count": 2,
     "metadata": {},
     "output_type": "execute_result"
    }
   ],
   "source": [
    "\"\"\"\n",
    "流れ\n",
    "trainデータとtestデータの読み込み\n",
    "↓\n",
    "Xに説明変数、yに目的変数を設定\n",
    "↓\n",
    "trainデータをtrainとtestに分ける\n",
    "↓\n",
    "こんな感じ\n",
    "X_train\n",
    "X_test\n",
    "y_train\n",
    "y_test\n",
    "↓\n",
    "学習:knn.fit(X_train, y_train)\n",
    "テスト：knn.score(X_test,y_test)\n",
    "↓\n",
    "テストデータ：X_for_submit = test[['Pclass', 'SibSp', 'Parch']]\n",
    "\n",
    "submit = test[['PassengerId']]\n",
    "submit['Survived'] = knn.predict(X_for_submit) (predictで予測し、予測した値をsubmitに入れる)\n",
    "\n",
    "\"\"\""
   ]
  },
  {
   "cell_type": "markdown",
   "id": "b46ad34c",
   "metadata": {
    "papermill": {
     "duration": 0.039099,
     "end_time": "2022-06-15T16:10:56.407973",
     "exception": false,
     "start_time": "2022-06-15T16:10:56.368874",
     "status": "completed"
    },
    "tags": []
   },
   "source": []
  },
  {
   "cell_type": "code",
   "execution_count": 3,
   "id": "2c3ebb50",
   "metadata": {
    "execution": {
     "iopub.execute_input": "2022-06-15T16:10:56.487615Z",
     "iopub.status.busy": "2022-06-15T16:10:56.486699Z",
     "iopub.status.idle": "2022-06-15T16:10:56.537113Z",
     "shell.execute_reply": "2022-06-15T16:10:56.536219Z"
    },
    "papermill": {
     "duration": 0.092646,
     "end_time": "2022-06-15T16:10:56.539232",
     "exception": false,
     "start_time": "2022-06-15T16:10:56.446586",
     "status": "completed"
    },
    "tags": []
   },
   "outputs": [
    {
     "data": {
      "text/html": [
       "<div>\n",
       "<style scoped>\n",
       "    .dataframe tbody tr th:only-of-type {\n",
       "        vertical-align: middle;\n",
       "    }\n",
       "\n",
       "    .dataframe tbody tr th {\n",
       "        vertical-align: top;\n",
       "    }\n",
       "\n",
       "    .dataframe thead th {\n",
       "        text-align: right;\n",
       "    }\n",
       "</style>\n",
       "<table border=\"1\" class=\"dataframe\">\n",
       "  <thead>\n",
       "    <tr style=\"text-align: right;\">\n",
       "      <th></th>\n",
       "      <th>PassengerId</th>\n",
       "      <th>Pclass</th>\n",
       "      <th>Name</th>\n",
       "      <th>Sex</th>\n",
       "      <th>Age</th>\n",
       "      <th>SibSp</th>\n",
       "      <th>Parch</th>\n",
       "      <th>Ticket</th>\n",
       "      <th>Fare</th>\n",
       "      <th>Cabin</th>\n",
       "      <th>Embarked</th>\n",
       "    </tr>\n",
       "  </thead>\n",
       "  <tbody>\n",
       "    <tr>\n",
       "      <th>0</th>\n",
       "      <td>892</td>\n",
       "      <td>3</td>\n",
       "      <td>Kelly, Mr. James</td>\n",
       "      <td>male</td>\n",
       "      <td>34.5</td>\n",
       "      <td>0</td>\n",
       "      <td>0</td>\n",
       "      <td>330911</td>\n",
       "      <td>7.8292</td>\n",
       "      <td>NaN</td>\n",
       "      <td>Q</td>\n",
       "    </tr>\n",
       "    <tr>\n",
       "      <th>1</th>\n",
       "      <td>893</td>\n",
       "      <td>3</td>\n",
       "      <td>Wilkes, Mrs. James (Ellen Needs)</td>\n",
       "      <td>female</td>\n",
       "      <td>47.0</td>\n",
       "      <td>1</td>\n",
       "      <td>0</td>\n",
       "      <td>363272</td>\n",
       "      <td>7.0000</td>\n",
       "      <td>NaN</td>\n",
       "      <td>S</td>\n",
       "    </tr>\n",
       "    <tr>\n",
       "      <th>2</th>\n",
       "      <td>894</td>\n",
       "      <td>2</td>\n",
       "      <td>Myles, Mr. Thomas Francis</td>\n",
       "      <td>male</td>\n",
       "      <td>62.0</td>\n",
       "      <td>0</td>\n",
       "      <td>0</td>\n",
       "      <td>240276</td>\n",
       "      <td>9.6875</td>\n",
       "      <td>NaN</td>\n",
       "      <td>Q</td>\n",
       "    </tr>\n",
       "    <tr>\n",
       "      <th>3</th>\n",
       "      <td>895</td>\n",
       "      <td>3</td>\n",
       "      <td>Wirz, Mr. Albert</td>\n",
       "      <td>male</td>\n",
       "      <td>27.0</td>\n",
       "      <td>0</td>\n",
       "      <td>0</td>\n",
       "      <td>315154</td>\n",
       "      <td>8.6625</td>\n",
       "      <td>NaN</td>\n",
       "      <td>S</td>\n",
       "    </tr>\n",
       "    <tr>\n",
       "      <th>4</th>\n",
       "      <td>896</td>\n",
       "      <td>3</td>\n",
       "      <td>Hirvonen, Mrs. Alexander (Helga E Lindqvist)</td>\n",
       "      <td>female</td>\n",
       "      <td>22.0</td>\n",
       "      <td>1</td>\n",
       "      <td>1</td>\n",
       "      <td>3101298</td>\n",
       "      <td>12.2875</td>\n",
       "      <td>NaN</td>\n",
       "      <td>S</td>\n",
       "    </tr>\n",
       "  </tbody>\n",
       "</table>\n",
       "</div>"
      ],
      "text/plain": [
       "   PassengerId  Pclass                                          Name     Sex  \\\n",
       "0          892       3                              Kelly, Mr. James    male   \n",
       "1          893       3              Wilkes, Mrs. James (Ellen Needs)  female   \n",
       "2          894       2                     Myles, Mr. Thomas Francis    male   \n",
       "3          895       3                              Wirz, Mr. Albert    male   \n",
       "4          896       3  Hirvonen, Mrs. Alexander (Helga E Lindqvist)  female   \n",
       "\n",
       "    Age  SibSp  Parch   Ticket     Fare Cabin Embarked  \n",
       "0  34.5      0      0   330911   7.8292   NaN        Q  \n",
       "1  47.0      1      0   363272   7.0000   NaN        S  \n",
       "2  62.0      0      0   240276   9.6875   NaN        Q  \n",
       "3  27.0      0      0   315154   8.6625   NaN        S  \n",
       "4  22.0      1      1  3101298  12.2875   NaN        S  "
      ]
     },
     "execution_count": 3,
     "metadata": {},
     "output_type": "execute_result"
    }
   ],
   "source": [
    "train = pd.read_csv(\"../input/titanic/train.csv\")\n",
    "test = pd.read_csv(\"../input/titanic/test.csv\")\n",
    "\n",
    "test.head()\n",
    "#print(train.info())"
   ]
  },
  {
   "cell_type": "code",
   "execution_count": 4,
   "id": "740ad6a4",
   "metadata": {
    "execution": {
     "iopub.execute_input": "2022-06-15T16:10:56.620969Z",
     "iopub.status.busy": "2022-06-15T16:10:56.620190Z",
     "iopub.status.idle": "2022-06-15T16:10:56.634608Z",
     "shell.execute_reply": "2022-06-15T16:10:56.633221Z"
    },
    "papermill": {
     "duration": 0.05691,
     "end_time": "2022-06-15T16:10:56.636630",
     "exception": false,
     "start_time": "2022-06-15T16:10:56.579720",
     "status": "completed"
    },
    "tags": []
   },
   "outputs": [],
   "source": [
    "X = train[['Pclass', 'SibSp', 'Parch']]\n",
    "y = train[['Survived']]"
   ]
  },
  {
   "cell_type": "code",
   "execution_count": 5,
   "id": "992ffc3b",
   "metadata": {
    "execution": {
     "iopub.execute_input": "2022-06-15T16:10:56.716197Z",
     "iopub.status.busy": "2022-06-15T16:10:56.715581Z",
     "iopub.status.idle": "2022-06-15T16:10:57.910709Z",
     "shell.execute_reply": "2022-06-15T16:10:57.909482Z"
    },
    "papermill": {
     "duration": 1.237723,
     "end_time": "2022-06-15T16:10:57.913290",
     "exception": false,
     "start_time": "2022-06-15T16:10:56.675567",
     "status": "completed"
    },
    "tags": []
   },
   "outputs": [],
   "source": [
    "from sklearn.model_selection import train_test_split\n",
    "\n",
    "X_train,X_test,y_train,y_test = train_test_split(X, y, random_state=0)"
   ]
  },
  {
   "cell_type": "code",
   "execution_count": 6,
   "id": "449ea38e",
   "metadata": {
    "execution": {
     "iopub.execute_input": "2022-06-15T16:10:57.995201Z",
     "iopub.status.busy": "2022-06-15T16:10:57.994783Z",
     "iopub.status.idle": "2022-06-15T16:10:58.163113Z",
     "shell.execute_reply": "2022-06-15T16:10:58.161605Z"
    },
    "papermill": {
     "duration": 0.21187,
     "end_time": "2022-06-15T16:10:58.165823",
     "exception": false,
     "start_time": "2022-06-15T16:10:57.953953",
     "status": "completed"
    },
    "tags": []
   },
   "outputs": [
    {
     "name": "stderr",
     "output_type": "stream",
     "text": [
      "/opt/conda/lib/python3.7/site-packages/sklearn/neighbors/_classification.py:198: DataConversionWarning: A column-vector y was passed when a 1d array was expected. Please change the shape of y to (n_samples,), for example using ravel().\n",
      "  return self._fit(X, y)\n"
     ]
    },
    {
     "data": {
      "text/plain": [
       "KNeighborsClassifier(n_neighbors=3)"
      ]
     },
     "execution_count": 6,
     "metadata": {},
     "output_type": "execute_result"
    }
   ],
   "source": [
    "from sklearn.neighbors import KNeighborsClassifier\n",
    "\n",
    "knn = KNeighborsClassifier(n_neighbors=3)\n",
    "knn.fit(X_train, y_train)"
   ]
  },
  {
   "cell_type": "code",
   "execution_count": 7,
   "id": "e02681b2",
   "metadata": {
    "execution": {
     "iopub.execute_input": "2022-06-15T16:10:58.246750Z",
     "iopub.status.busy": "2022-06-15T16:10:58.246479Z",
     "iopub.status.idle": "2022-06-15T16:10:58.265562Z",
     "shell.execute_reply": "2022-06-15T16:10:58.264560Z"
    },
    "papermill": {
     "duration": 0.06269,
     "end_time": "2022-06-15T16:10:58.268075",
     "exception": false,
     "start_time": "2022-06-15T16:10:58.205385",
     "status": "completed"
    },
    "tags": []
   },
   "outputs": [
    {
     "data": {
      "text/plain": [
       "0.6636771300448431"
      ]
     },
     "execution_count": 7,
     "metadata": {},
     "output_type": "execute_result"
    }
   ],
   "source": [
    "knn.score(X_test,y_test)"
   ]
  },
  {
   "cell_type": "code",
   "execution_count": 8,
   "id": "e593a1e5",
   "metadata": {
    "execution": {
     "iopub.execute_input": "2022-06-15T16:10:58.355055Z",
     "iopub.status.busy": "2022-06-15T16:10:58.354080Z",
     "iopub.status.idle": "2022-06-15T16:10:58.385016Z",
     "shell.execute_reply": "2022-06-15T16:10:58.383709Z"
    },
    "papermill": {
     "duration": 0.075608,
     "end_time": "2022-06-15T16:10:58.387645",
     "exception": false,
     "start_time": "2022-06-15T16:10:58.312037",
     "status": "completed"
    },
    "tags": []
   },
   "outputs": [
    {
     "name": "stderr",
     "output_type": "stream",
     "text": [
      "/opt/conda/lib/python3.7/site-packages/ipykernel_launcher.py:3: SettingWithCopyWarning: \n",
      "A value is trying to be set on a copy of a slice from a DataFrame.\n",
      "Try using .loc[row_indexer,col_indexer] = value instead\n",
      "\n",
      "See the caveats in the documentation: https://pandas.pydata.org/pandas-docs/stable/user_guide/indexing.html#returning-a-view-versus-a-copy\n",
      "  This is separate from the ipykernel package so we can avoid doing imports until\n"
     ]
    }
   ],
   "source": [
    "X_for_submit = test[['Pclass','SibSp','Parch']]\n",
    "submit = test[['PassengerId']]\n",
    "submit['Survived'] = knn.predict(X_for_submit)"
   ]
  },
  {
   "cell_type": "code",
   "execution_count": 9,
   "id": "fb01dc1d",
   "metadata": {
    "execution": {
     "iopub.execute_input": "2022-06-15T16:10:58.474777Z",
     "iopub.status.busy": "2022-06-15T16:10:58.474481Z",
     "iopub.status.idle": "2022-06-15T16:10:58.486397Z",
     "shell.execute_reply": "2022-06-15T16:10:58.485402Z"
    },
    "papermill": {
     "duration": 0.058424,
     "end_time": "2022-06-15T16:10:58.488567",
     "exception": false,
     "start_time": "2022-06-15T16:10:58.430143",
     "status": "completed"
    },
    "tags": []
   },
   "outputs": [
    {
     "data": {
      "text/html": [
       "<div>\n",
       "<style scoped>\n",
       "    .dataframe tbody tr th:only-of-type {\n",
       "        vertical-align: middle;\n",
       "    }\n",
       "\n",
       "    .dataframe tbody tr th {\n",
       "        vertical-align: top;\n",
       "    }\n",
       "\n",
       "    .dataframe thead th {\n",
       "        text-align: right;\n",
       "    }\n",
       "</style>\n",
       "<table border=\"1\" class=\"dataframe\">\n",
       "  <thead>\n",
       "    <tr style=\"text-align: right;\">\n",
       "      <th></th>\n",
       "      <th>PassengerId</th>\n",
       "      <th>Survived</th>\n",
       "    </tr>\n",
       "  </thead>\n",
       "  <tbody>\n",
       "    <tr>\n",
       "      <th>0</th>\n",
       "      <td>892</td>\n",
       "      <td>0</td>\n",
       "    </tr>\n",
       "    <tr>\n",
       "      <th>1</th>\n",
       "      <td>893</td>\n",
       "      <td>0</td>\n",
       "    </tr>\n",
       "    <tr>\n",
       "      <th>2</th>\n",
       "      <td>894</td>\n",
       "      <td>1</td>\n",
       "    </tr>\n",
       "    <tr>\n",
       "      <th>3</th>\n",
       "      <td>895</td>\n",
       "      <td>0</td>\n",
       "    </tr>\n",
       "    <tr>\n",
       "      <th>4</th>\n",
       "      <td>896</td>\n",
       "      <td>0</td>\n",
       "    </tr>\n",
       "    <tr>\n",
       "      <th>...</th>\n",
       "      <td>...</td>\n",
       "      <td>...</td>\n",
       "    </tr>\n",
       "    <tr>\n",
       "      <th>413</th>\n",
       "      <td>1305</td>\n",
       "      <td>0</td>\n",
       "    </tr>\n",
       "    <tr>\n",
       "      <th>414</th>\n",
       "      <td>1306</td>\n",
       "      <td>1</td>\n",
       "    </tr>\n",
       "    <tr>\n",
       "      <th>415</th>\n",
       "      <td>1307</td>\n",
       "      <td>0</td>\n",
       "    </tr>\n",
       "    <tr>\n",
       "      <th>416</th>\n",
       "      <td>1308</td>\n",
       "      <td>0</td>\n",
       "    </tr>\n",
       "    <tr>\n",
       "      <th>417</th>\n",
       "      <td>1309</td>\n",
       "      <td>0</td>\n",
       "    </tr>\n",
       "  </tbody>\n",
       "</table>\n",
       "<p>418 rows × 2 columns</p>\n",
       "</div>"
      ],
      "text/plain": [
       "     PassengerId  Survived\n",
       "0            892         0\n",
       "1            893         0\n",
       "2            894         1\n",
       "3            895         0\n",
       "4            896         0\n",
       "..           ...       ...\n",
       "413         1305         0\n",
       "414         1306         1\n",
       "415         1307         0\n",
       "416         1308         0\n",
       "417         1309         0\n",
       "\n",
       "[418 rows x 2 columns]"
      ]
     },
     "execution_count": 9,
     "metadata": {},
     "output_type": "execute_result"
    }
   ],
   "source": [
    "submit"
   ]
  },
  {
   "cell_type": "code",
   "execution_count": 10,
   "id": "83f91de6",
   "metadata": {
    "execution": {
     "iopub.execute_input": "2022-06-15T16:10:58.576629Z",
     "iopub.status.busy": "2022-06-15T16:10:58.576341Z",
     "iopub.status.idle": "2022-06-15T16:10:58.582411Z",
     "shell.execute_reply": "2022-06-15T16:10:58.581371Z"
    },
    "papermill": {
     "duration": 0.051805,
     "end_time": "2022-06-15T16:10:58.584645",
     "exception": false,
     "start_time": "2022-06-15T16:10:58.532840",
     "status": "completed"
    },
    "tags": []
   },
   "outputs": [],
   "source": [
    "X = train[['Pclass', 'SibSp', 'Parch', 'Sex']]\n",
    "y = train[['Survived']]"
   ]
  },
  {
   "cell_type": "code",
   "execution_count": 11,
   "id": "e4122ac0",
   "metadata": {
    "execution": {
     "iopub.execute_input": "2022-06-15T16:10:58.673701Z",
     "iopub.status.busy": "2022-06-15T16:10:58.673224Z",
     "iopub.status.idle": "2022-06-15T16:10:58.694469Z",
     "shell.execute_reply": "2022-06-15T16:10:58.693260Z"
    },
    "papermill": {
     "duration": 0.069614,
     "end_time": "2022-06-15T16:10:58.697185",
     "exception": false,
     "start_time": "2022-06-15T16:10:58.627571",
     "status": "completed"
    },
    "tags": []
   },
   "outputs": [
    {
     "data": {
      "text/html": [
       "<div>\n",
       "<style scoped>\n",
       "    .dataframe tbody tr th:only-of-type {\n",
       "        vertical-align: middle;\n",
       "    }\n",
       "\n",
       "    .dataframe tbody tr th {\n",
       "        vertical-align: top;\n",
       "    }\n",
       "\n",
       "    .dataframe thead th {\n",
       "        text-align: right;\n",
       "    }\n",
       "</style>\n",
       "<table border=\"1\" class=\"dataframe\">\n",
       "  <thead>\n",
       "    <tr style=\"text-align: right;\">\n",
       "      <th></th>\n",
       "      <th>SibSp</th>\n",
       "      <th>Parch</th>\n",
       "      <th>Pclass_1</th>\n",
       "      <th>Pclass_2</th>\n",
       "      <th>Pclass_3</th>\n",
       "      <th>Sex_female</th>\n",
       "      <th>Sex_male</th>\n",
       "    </tr>\n",
       "  </thead>\n",
       "  <tbody>\n",
       "    <tr>\n",
       "      <th>0</th>\n",
       "      <td>1</td>\n",
       "      <td>0</td>\n",
       "      <td>0</td>\n",
       "      <td>0</td>\n",
       "      <td>1</td>\n",
       "      <td>0</td>\n",
       "      <td>1</td>\n",
       "    </tr>\n",
       "    <tr>\n",
       "      <th>1</th>\n",
       "      <td>1</td>\n",
       "      <td>0</td>\n",
       "      <td>1</td>\n",
       "      <td>0</td>\n",
       "      <td>0</td>\n",
       "      <td>1</td>\n",
       "      <td>0</td>\n",
       "    </tr>\n",
       "    <tr>\n",
       "      <th>2</th>\n",
       "      <td>0</td>\n",
       "      <td>0</td>\n",
       "      <td>0</td>\n",
       "      <td>0</td>\n",
       "      <td>1</td>\n",
       "      <td>1</td>\n",
       "      <td>0</td>\n",
       "    </tr>\n",
       "    <tr>\n",
       "      <th>3</th>\n",
       "      <td>1</td>\n",
       "      <td>0</td>\n",
       "      <td>1</td>\n",
       "      <td>0</td>\n",
       "      <td>0</td>\n",
       "      <td>1</td>\n",
       "      <td>0</td>\n",
       "    </tr>\n",
       "    <tr>\n",
       "      <th>4</th>\n",
       "      <td>0</td>\n",
       "      <td>0</td>\n",
       "      <td>0</td>\n",
       "      <td>0</td>\n",
       "      <td>1</td>\n",
       "      <td>0</td>\n",
       "      <td>1</td>\n",
       "    </tr>\n",
       "    <tr>\n",
       "      <th>...</th>\n",
       "      <td>...</td>\n",
       "      <td>...</td>\n",
       "      <td>...</td>\n",
       "      <td>...</td>\n",
       "      <td>...</td>\n",
       "      <td>...</td>\n",
       "      <td>...</td>\n",
       "    </tr>\n",
       "    <tr>\n",
       "      <th>886</th>\n",
       "      <td>0</td>\n",
       "      <td>0</td>\n",
       "      <td>0</td>\n",
       "      <td>1</td>\n",
       "      <td>0</td>\n",
       "      <td>0</td>\n",
       "      <td>1</td>\n",
       "    </tr>\n",
       "    <tr>\n",
       "      <th>887</th>\n",
       "      <td>0</td>\n",
       "      <td>0</td>\n",
       "      <td>1</td>\n",
       "      <td>0</td>\n",
       "      <td>0</td>\n",
       "      <td>1</td>\n",
       "      <td>0</td>\n",
       "    </tr>\n",
       "    <tr>\n",
       "      <th>888</th>\n",
       "      <td>1</td>\n",
       "      <td>2</td>\n",
       "      <td>0</td>\n",
       "      <td>0</td>\n",
       "      <td>1</td>\n",
       "      <td>1</td>\n",
       "      <td>0</td>\n",
       "    </tr>\n",
       "    <tr>\n",
       "      <th>889</th>\n",
       "      <td>0</td>\n",
       "      <td>0</td>\n",
       "      <td>1</td>\n",
       "      <td>0</td>\n",
       "      <td>0</td>\n",
       "      <td>0</td>\n",
       "      <td>1</td>\n",
       "    </tr>\n",
       "    <tr>\n",
       "      <th>890</th>\n",
       "      <td>0</td>\n",
       "      <td>0</td>\n",
       "      <td>0</td>\n",
       "      <td>0</td>\n",
       "      <td>1</td>\n",
       "      <td>0</td>\n",
       "      <td>1</td>\n",
       "    </tr>\n",
       "  </tbody>\n",
       "</table>\n",
       "<p>891 rows × 7 columns</p>\n",
       "</div>"
      ],
      "text/plain": [
       "     SibSp  Parch  Pclass_1  Pclass_2  Pclass_3  Sex_female  Sex_male\n",
       "0        1      0         0         0         1           0         1\n",
       "1        1      0         1         0         0           1         0\n",
       "2        0      0         0         0         1           1         0\n",
       "3        1      0         1         0         0           1         0\n",
       "4        0      0         0         0         1           0         1\n",
       "..     ...    ...       ...       ...       ...         ...       ...\n",
       "886      0      0         0         1         0           0         1\n",
       "887      0      0         1         0         0           1         0\n",
       "888      1      2         0         0         1           1         0\n",
       "889      0      0         1         0         0           0         1\n",
       "890      0      0         0         0         1           0         1\n",
       "\n",
       "[891 rows x 7 columns]"
      ]
     },
     "execution_count": 11,
     "metadata": {},
     "output_type": "execute_result"
    }
   ],
   "source": [
    "X = pd.get_dummies(X, columns=['Pclass', 'Sex'])\n",
    "X"
   ]
  },
  {
   "cell_type": "code",
   "execution_count": 12,
   "id": "e2998e0a",
   "metadata": {
    "execution": {
     "iopub.execute_input": "2022-06-15T16:10:58.791416Z",
     "iopub.status.busy": "2022-06-15T16:10:58.790693Z",
     "iopub.status.idle": "2022-06-15T16:10:58.815275Z",
     "shell.execute_reply": "2022-06-15T16:10:58.814610Z"
    },
    "papermill": {
     "duration": 0.077128,
     "end_time": "2022-06-15T16:10:58.818345",
     "exception": false,
     "start_time": "2022-06-15T16:10:58.741217",
     "status": "completed"
    },
    "tags": []
   },
   "outputs": [
    {
     "name": "stderr",
     "output_type": "stream",
     "text": [
      "/opt/conda/lib/python3.7/site-packages/sklearn/neighbors/_classification.py:198: DataConversionWarning: A column-vector y was passed when a 1d array was expected. Please change the shape of y to (n_samples,), for example using ravel().\n",
      "  return self._fit(X, y)\n"
     ]
    },
    {
     "data": {
      "text/plain": [
       "0.7713004484304933"
      ]
     },
     "execution_count": 12,
     "metadata": {},
     "output_type": "execute_result"
    }
   ],
   "source": [
    "X_train,X_test,y_train,y_test = train_test_split(X, y, random_state=0)\n",
    "knn = KNeighborsClassifier(n_neighbors=3)\n",
    "knn.fit(X_train, y_train)\n",
    "knn.score(X_test,y_test)"
   ]
  },
  {
   "cell_type": "code",
   "execution_count": 13,
   "id": "3293ba0f",
   "metadata": {
    "execution": {
     "iopub.execute_input": "2022-06-15T16:10:58.907083Z",
     "iopub.status.busy": "2022-06-15T16:10:58.906583Z",
     "iopub.status.idle": "2022-06-15T16:10:58.912792Z",
     "shell.execute_reply": "2022-06-15T16:10:58.911850Z"
    },
    "papermill": {
     "duration": 0.053923,
     "end_time": "2022-06-15T16:10:58.914744",
     "exception": false,
     "start_time": "2022-06-15T16:10:58.860821",
     "status": "completed"
    },
    "tags": []
   },
   "outputs": [],
   "source": [
    "X = train[['Pclass', 'SibSp', 'Parch', 'Sex', 'Fare']]\n",
    "y = train[['Survived']]"
   ]
  },
  {
   "cell_type": "code",
   "execution_count": 14,
   "id": "69785842",
   "metadata": {
    "execution": {
     "iopub.execute_input": "2022-06-15T16:10:59.004512Z",
     "iopub.status.busy": "2022-06-15T16:10:59.003899Z",
     "iopub.status.idle": "2022-06-15T16:10:59.024142Z",
     "shell.execute_reply": "2022-06-15T16:10:59.023409Z"
    },
    "papermill": {
     "duration": 0.067667,
     "end_time": "2022-06-15T16:10:59.025997",
     "exception": false,
     "start_time": "2022-06-15T16:10:58.958330",
     "status": "completed"
    },
    "tags": []
   },
   "outputs": [
    {
     "data": {
      "text/html": [
       "<div>\n",
       "<style scoped>\n",
       "    .dataframe tbody tr th:only-of-type {\n",
       "        vertical-align: middle;\n",
       "    }\n",
       "\n",
       "    .dataframe tbody tr th {\n",
       "        vertical-align: top;\n",
       "    }\n",
       "\n",
       "    .dataframe thead th {\n",
       "        text-align: right;\n",
       "    }\n",
       "</style>\n",
       "<table border=\"1\" class=\"dataframe\">\n",
       "  <thead>\n",
       "    <tr style=\"text-align: right;\">\n",
       "      <th></th>\n",
       "      <th>SibSp</th>\n",
       "      <th>Parch</th>\n",
       "      <th>Fare</th>\n",
       "      <th>Pclass_1</th>\n",
       "      <th>Pclass_2</th>\n",
       "      <th>Pclass_3</th>\n",
       "      <th>Sex_female</th>\n",
       "      <th>Sex_male</th>\n",
       "    </tr>\n",
       "  </thead>\n",
       "  <tbody>\n",
       "    <tr>\n",
       "      <th>0</th>\n",
       "      <td>1</td>\n",
       "      <td>0</td>\n",
       "      <td>7.2500</td>\n",
       "      <td>0</td>\n",
       "      <td>0</td>\n",
       "      <td>1</td>\n",
       "      <td>0</td>\n",
       "      <td>1</td>\n",
       "    </tr>\n",
       "    <tr>\n",
       "      <th>1</th>\n",
       "      <td>1</td>\n",
       "      <td>0</td>\n",
       "      <td>71.2833</td>\n",
       "      <td>1</td>\n",
       "      <td>0</td>\n",
       "      <td>0</td>\n",
       "      <td>1</td>\n",
       "      <td>0</td>\n",
       "    </tr>\n",
       "    <tr>\n",
       "      <th>2</th>\n",
       "      <td>0</td>\n",
       "      <td>0</td>\n",
       "      <td>7.9250</td>\n",
       "      <td>0</td>\n",
       "      <td>0</td>\n",
       "      <td>1</td>\n",
       "      <td>1</td>\n",
       "      <td>0</td>\n",
       "    </tr>\n",
       "    <tr>\n",
       "      <th>3</th>\n",
       "      <td>1</td>\n",
       "      <td>0</td>\n",
       "      <td>53.1000</td>\n",
       "      <td>1</td>\n",
       "      <td>0</td>\n",
       "      <td>0</td>\n",
       "      <td>1</td>\n",
       "      <td>0</td>\n",
       "    </tr>\n",
       "    <tr>\n",
       "      <th>4</th>\n",
       "      <td>0</td>\n",
       "      <td>0</td>\n",
       "      <td>8.0500</td>\n",
       "      <td>0</td>\n",
       "      <td>0</td>\n",
       "      <td>1</td>\n",
       "      <td>0</td>\n",
       "      <td>1</td>\n",
       "    </tr>\n",
       "    <tr>\n",
       "      <th>...</th>\n",
       "      <td>...</td>\n",
       "      <td>...</td>\n",
       "      <td>...</td>\n",
       "      <td>...</td>\n",
       "      <td>...</td>\n",
       "      <td>...</td>\n",
       "      <td>...</td>\n",
       "      <td>...</td>\n",
       "    </tr>\n",
       "    <tr>\n",
       "      <th>886</th>\n",
       "      <td>0</td>\n",
       "      <td>0</td>\n",
       "      <td>13.0000</td>\n",
       "      <td>0</td>\n",
       "      <td>1</td>\n",
       "      <td>0</td>\n",
       "      <td>0</td>\n",
       "      <td>1</td>\n",
       "    </tr>\n",
       "    <tr>\n",
       "      <th>887</th>\n",
       "      <td>0</td>\n",
       "      <td>0</td>\n",
       "      <td>30.0000</td>\n",
       "      <td>1</td>\n",
       "      <td>0</td>\n",
       "      <td>0</td>\n",
       "      <td>1</td>\n",
       "      <td>0</td>\n",
       "    </tr>\n",
       "    <tr>\n",
       "      <th>888</th>\n",
       "      <td>1</td>\n",
       "      <td>2</td>\n",
       "      <td>23.4500</td>\n",
       "      <td>0</td>\n",
       "      <td>0</td>\n",
       "      <td>1</td>\n",
       "      <td>1</td>\n",
       "      <td>0</td>\n",
       "    </tr>\n",
       "    <tr>\n",
       "      <th>889</th>\n",
       "      <td>0</td>\n",
       "      <td>0</td>\n",
       "      <td>30.0000</td>\n",
       "      <td>1</td>\n",
       "      <td>0</td>\n",
       "      <td>0</td>\n",
       "      <td>0</td>\n",
       "      <td>1</td>\n",
       "    </tr>\n",
       "    <tr>\n",
       "      <th>890</th>\n",
       "      <td>0</td>\n",
       "      <td>0</td>\n",
       "      <td>7.7500</td>\n",
       "      <td>0</td>\n",
       "      <td>0</td>\n",
       "      <td>1</td>\n",
       "      <td>0</td>\n",
       "      <td>1</td>\n",
       "    </tr>\n",
       "  </tbody>\n",
       "</table>\n",
       "<p>891 rows × 8 columns</p>\n",
       "</div>"
      ],
      "text/plain": [
       "     SibSp  Parch     Fare  Pclass_1  Pclass_2  Pclass_3  Sex_female  Sex_male\n",
       "0        1      0   7.2500         0         0         1           0         1\n",
       "1        1      0  71.2833         1         0         0           1         0\n",
       "2        0      0   7.9250         0         0         1           1         0\n",
       "3        1      0  53.1000         1         0         0           1         0\n",
       "4        0      0   8.0500         0         0         1           0         1\n",
       "..     ...    ...      ...       ...       ...       ...         ...       ...\n",
       "886      0      0  13.0000         0         1         0           0         1\n",
       "887      0      0  30.0000         1         0         0           1         0\n",
       "888      1      2  23.4500         0         0         1           1         0\n",
       "889      0      0  30.0000         1         0         0           0         1\n",
       "890      0      0   7.7500         0         0         1           0         1\n",
       "\n",
       "[891 rows x 8 columns]"
      ]
     },
     "execution_count": 14,
     "metadata": {},
     "output_type": "execute_result"
    }
   ],
   "source": [
    "X = pd.get_dummies(X, columns=['Pclass', 'Sex'])\n",
    "X"
   ]
  },
  {
   "cell_type": "code",
   "execution_count": 15,
   "id": "6475f38f",
   "metadata": {
    "execution": {
     "iopub.execute_input": "2022-06-15T16:10:59.115297Z",
     "iopub.status.busy": "2022-06-15T16:10:59.114909Z",
     "iopub.status.idle": "2022-06-15T16:10:59.141290Z",
     "shell.execute_reply": "2022-06-15T16:10:59.140042Z"
    },
    "papermill": {
     "duration": 0.073608,
     "end_time": "2022-06-15T16:10:59.143428",
     "exception": false,
     "start_time": "2022-06-15T16:10:59.069820",
     "status": "completed"
    },
    "tags": []
   },
   "outputs": [
    {
     "name": "stderr",
     "output_type": "stream",
     "text": [
      "/opt/conda/lib/python3.7/site-packages/sklearn/neighbors/_classification.py:198: DataConversionWarning: A column-vector y was passed when a 1d array was expected. Please change the shape of y to (n_samples,), for example using ravel().\n",
      "  return self._fit(X, y)\n"
     ]
    },
    {
     "data": {
      "text/plain": [
       "0.8026905829596412"
      ]
     },
     "execution_count": 15,
     "metadata": {},
     "output_type": "execute_result"
    }
   ],
   "source": [
    "X_train,X_test,y_train,y_test = train_test_split(X, y, random_state=0)\n",
    "knn = KNeighborsClassifier(n_neighbors=3)\n",
    "knn.fit(X_train, y_train)\n",
    "knn.score(X_test,y_test)"
   ]
  },
  {
   "cell_type": "code",
   "execution_count": 16,
   "id": "0e6756aa",
   "metadata": {
    "execution": {
     "iopub.execute_input": "2022-06-15T16:10:59.233150Z",
     "iopub.status.busy": "2022-06-15T16:10:59.232766Z",
     "iopub.status.idle": "2022-06-15T16:10:59.260327Z",
     "shell.execute_reply": "2022-06-15T16:10:59.259359Z"
    },
    "papermill": {
     "duration": 0.074679,
     "end_time": "2022-06-15T16:10:59.262167",
     "exception": false,
     "start_time": "2022-06-15T16:10:59.187488",
     "status": "completed"
    },
    "tags": []
   },
   "outputs": [
    {
     "name": "stderr",
     "output_type": "stream",
     "text": [
      "/opt/conda/lib/python3.7/site-packages/sklearn/neighbors/_classification.py:198: DataConversionWarning: A column-vector y was passed when a 1d array was expected. Please change the shape of y to (n_samples,), for example using ravel().\n",
      "  return self._fit(X, y)\n"
     ]
    },
    {
     "data": {
      "text/plain": [
       "0.8385650224215246"
      ]
     },
     "execution_count": 16,
     "metadata": {},
     "output_type": "execute_result"
    }
   ],
   "source": [
    "from sklearn.preprocessing import StandardScaler\n",
    "\n",
    "scaler = StandardScaler()\n",
    "scaler.fit(X_train)\n",
    "X_train_sclaed = scaler.transform(X_train)\n",
    "X_test_sclaed = scaler.transform(X_test)\n",
    "\n",
    "knn = KNeighborsClassifier(n_neighbors=3)\n",
    "knn.fit(X_train_sclaed, y_train)\n",
    "knn.score(X_test_sclaed,y_test)"
   ]
  },
  {
   "cell_type": "code",
   "execution_count": 17,
   "id": "17b117bf",
   "metadata": {
    "execution": {
     "iopub.execute_input": "2022-06-15T16:10:59.353371Z",
     "iopub.status.busy": "2022-06-15T16:10:59.352853Z",
     "iopub.status.idle": "2022-06-15T16:10:59.362098Z",
     "shell.execute_reply": "2022-06-15T16:10:59.361327Z"
    },
    "papermill": {
     "duration": 0.05776,
     "end_time": "2022-06-15T16:10:59.364101",
     "exception": false,
     "start_time": "2022-06-15T16:10:59.306341",
     "status": "completed"
    },
    "tags": []
   },
   "outputs": [
    {
     "data": {
      "text/plain": [
       "PassengerId      0\n",
       "Pclass           0\n",
       "Name             0\n",
       "Sex              0\n",
       "Age             86\n",
       "SibSp            0\n",
       "Parch            0\n",
       "Ticket           0\n",
       "Fare             1\n",
       "Cabin          327\n",
       "Embarked         0\n",
       "dtype: int64"
      ]
     },
     "execution_count": 17,
     "metadata": {},
     "output_type": "execute_result"
    }
   ],
   "source": [
    "test.isnull().sum()"
   ]
  },
  {
   "cell_type": "markdown",
   "id": "8fe05ab5",
   "metadata": {
    "papermill": {
     "duration": 0.044836,
     "end_time": "2022-06-15T16:10:59.454064",
     "exception": false,
     "start_time": "2022-06-15T16:10:59.409228",
     "status": "completed"
    },
    "tags": []
   },
   "source": [
    "ここからした"
   ]
  },
  {
   "cell_type": "code",
   "execution_count": 18,
   "id": "8c1eb312",
   "metadata": {
    "execution": {
     "iopub.execute_input": "2022-06-15T16:10:59.548143Z",
     "iopub.status.busy": "2022-06-15T16:10:59.547629Z",
     "iopub.status.idle": "2022-06-15T16:10:59.551420Z",
     "shell.execute_reply": "2022-06-15T16:10:59.550779Z"
    },
    "papermill": {
     "duration": 0.054425,
     "end_time": "2022-06-15T16:10:59.553476",
     "exception": false,
     "start_time": "2022-06-15T16:10:59.499051",
     "status": "completed"
    },
    "tags": []
   },
   "outputs": [],
   "source": [
    "from sklearn.model_selection import train_test_split\n",
    "from sklearn.neighbors import KNeighborsClassifier\n",
    "from sklearn.preprocessing import StandardScaler"
   ]
  },
  {
   "cell_type": "code",
   "execution_count": 19,
   "id": "392808b5",
   "metadata": {
    "execution": {
     "iopub.execute_input": "2022-06-15T16:10:59.646398Z",
     "iopub.status.busy": "2022-06-15T16:10:59.645901Z",
     "iopub.status.idle": "2022-06-15T16:10:59.678693Z",
     "shell.execute_reply": "2022-06-15T16:10:59.677465Z"
    },
    "papermill": {
     "duration": 0.08207,
     "end_time": "2022-06-15T16:10:59.681092",
     "exception": false,
     "start_time": "2022-06-15T16:10:59.599022",
     "status": "completed"
    },
    "tags": []
   },
   "outputs": [
    {
     "name": "stdout",
     "output_type": "stream",
     "text": [
      "PassengerId      int64\n",
      "Survived         int64\n",
      "Pclass           int64\n",
      "Name            object\n",
      "Sex             object\n",
      "Age            float64\n",
      "SibSp            int64\n",
      "Parch            int64\n",
      "Ticket          object\n",
      "Fare           float64\n",
      "Cabin           object\n",
      "Embarked        object\n",
      "dtype: object\n",
      "PassengerId      0\n",
      "Pclass           0\n",
      "Name             0\n",
      "Sex              0\n",
      "Age             86\n",
      "SibSp            0\n",
      "Parch            0\n",
      "Ticket           0\n",
      "Fare             1\n",
      "Cabin          327\n",
      "Embarked         0\n",
      "dtype: int64\n"
     ]
    },
    {
     "data": {
      "text/html": [
       "<div>\n",
       "<style scoped>\n",
       "    .dataframe tbody tr th:only-of-type {\n",
       "        vertical-align: middle;\n",
       "    }\n",
       "\n",
       "    .dataframe tbody tr th {\n",
       "        vertical-align: top;\n",
       "    }\n",
       "\n",
       "    .dataframe thead th {\n",
       "        text-align: right;\n",
       "    }\n",
       "</style>\n",
       "<table border=\"1\" class=\"dataframe\">\n",
       "  <thead>\n",
       "    <tr style=\"text-align: right;\">\n",
       "      <th></th>\n",
       "      <th>PassengerId</th>\n",
       "      <th>Survived</th>\n",
       "      <th>Pclass</th>\n",
       "      <th>Name</th>\n",
       "      <th>Sex</th>\n",
       "      <th>Age</th>\n",
       "      <th>SibSp</th>\n",
       "      <th>Parch</th>\n",
       "      <th>Ticket</th>\n",
       "      <th>Fare</th>\n",
       "      <th>Cabin</th>\n",
       "      <th>Embarked</th>\n",
       "    </tr>\n",
       "  </thead>\n",
       "  <tbody>\n",
       "    <tr>\n",
       "      <th>0</th>\n",
       "      <td>1</td>\n",
       "      <td>0</td>\n",
       "      <td>3</td>\n",
       "      <td>Braund, Mr. Owen Harris</td>\n",
       "      <td>male</td>\n",
       "      <td>22.0</td>\n",
       "      <td>1</td>\n",
       "      <td>0</td>\n",
       "      <td>A/5 21171</td>\n",
       "      <td>7.2500</td>\n",
       "      <td>NaN</td>\n",
       "      <td>S</td>\n",
       "    </tr>\n",
       "    <tr>\n",
       "      <th>1</th>\n",
       "      <td>2</td>\n",
       "      <td>1</td>\n",
       "      <td>1</td>\n",
       "      <td>Cumings, Mrs. John Bradley (Florence Briggs Th...</td>\n",
       "      <td>female</td>\n",
       "      <td>38.0</td>\n",
       "      <td>1</td>\n",
       "      <td>0</td>\n",
       "      <td>PC 17599</td>\n",
       "      <td>71.2833</td>\n",
       "      <td>C85</td>\n",
       "      <td>C</td>\n",
       "    </tr>\n",
       "    <tr>\n",
       "      <th>2</th>\n",
       "      <td>3</td>\n",
       "      <td>1</td>\n",
       "      <td>3</td>\n",
       "      <td>Heikkinen, Miss. Laina</td>\n",
       "      <td>female</td>\n",
       "      <td>26.0</td>\n",
       "      <td>0</td>\n",
       "      <td>0</td>\n",
       "      <td>STON/O2. 3101282</td>\n",
       "      <td>7.9250</td>\n",
       "      <td>NaN</td>\n",
       "      <td>S</td>\n",
       "    </tr>\n",
       "    <tr>\n",
       "      <th>3</th>\n",
       "      <td>4</td>\n",
       "      <td>1</td>\n",
       "      <td>1</td>\n",
       "      <td>Futrelle, Mrs. Jacques Heath (Lily May Peel)</td>\n",
       "      <td>female</td>\n",
       "      <td>35.0</td>\n",
       "      <td>1</td>\n",
       "      <td>0</td>\n",
       "      <td>113803</td>\n",
       "      <td>53.1000</td>\n",
       "      <td>C123</td>\n",
       "      <td>S</td>\n",
       "    </tr>\n",
       "    <tr>\n",
       "      <th>4</th>\n",
       "      <td>5</td>\n",
       "      <td>0</td>\n",
       "      <td>3</td>\n",
       "      <td>Allen, Mr. William Henry</td>\n",
       "      <td>male</td>\n",
       "      <td>35.0</td>\n",
       "      <td>0</td>\n",
       "      <td>0</td>\n",
       "      <td>373450</td>\n",
       "      <td>8.0500</td>\n",
       "      <td>NaN</td>\n",
       "      <td>S</td>\n",
       "    </tr>\n",
       "  </tbody>\n",
       "</table>\n",
       "</div>"
      ],
      "text/plain": [
       "   PassengerId  Survived  Pclass  \\\n",
       "0            1         0       3   \n",
       "1            2         1       1   \n",
       "2            3         1       3   \n",
       "3            4         1       1   \n",
       "4            5         0       3   \n",
       "\n",
       "                                                Name     Sex   Age  SibSp  \\\n",
       "0                            Braund, Mr. Owen Harris    male  22.0      1   \n",
       "1  Cumings, Mrs. John Bradley (Florence Briggs Th...  female  38.0      1   \n",
       "2                             Heikkinen, Miss. Laina  female  26.0      0   \n",
       "3       Futrelle, Mrs. Jacques Heath (Lily May Peel)  female  35.0      1   \n",
       "4                           Allen, Mr. William Henry    male  35.0      0   \n",
       "\n",
       "   Parch            Ticket     Fare Cabin Embarked  \n",
       "0      0         A/5 21171   7.2500   NaN        S  \n",
       "1      0          PC 17599  71.2833   C85        C  \n",
       "2      0  STON/O2. 3101282   7.9250   NaN        S  \n",
       "3      0            113803  53.1000  C123        S  \n",
       "4      0            373450   8.0500   NaN        S  "
      ]
     },
     "execution_count": 19,
     "metadata": {},
     "output_type": "execute_result"
    }
   ],
   "source": [
    "train = pd.read_csv(\"../input/titanic/train.csv\")\n",
    "test = pd.read_csv(\"../input/titanic/test.csv\")\n",
    "\n",
    "#型確認\n",
    "print(train.dtypes)\n",
    "\n",
    "#nullがないか確認\n",
    "print(test.isnull().sum())\n",
    "\n",
    "#データ確認\n",
    "train.head()"
   ]
  },
  {
   "cell_type": "code",
   "execution_count": 20,
   "id": "8c28aaa3",
   "metadata": {
    "execution": {
     "iopub.execute_input": "2022-06-15T16:10:59.775925Z",
     "iopub.status.busy": "2022-06-15T16:10:59.774793Z",
     "iopub.status.idle": "2022-06-15T16:10:59.781717Z",
     "shell.execute_reply": "2022-06-15T16:10:59.780885Z"
    },
    "papermill": {
     "duration": 0.056679,
     "end_time": "2022-06-15T16:10:59.783771",
     "exception": false,
     "start_time": "2022-06-15T16:10:59.727092",
     "status": "completed"
    },
    "tags": []
   },
   "outputs": [],
   "source": [
    "X = train[['Pclass','SibSp','Parch', 'Sex', 'Fare']]\n",
    "y = train[['Survived']]\n",
    "#'Pclass','SibSp','Parch', 'Sex', 'Fare', 'Age'"
   ]
  },
  {
   "cell_type": "code",
   "execution_count": 21,
   "id": "ffaf68bc",
   "metadata": {
    "execution": {
     "iopub.execute_input": "2022-06-15T16:10:59.878009Z",
     "iopub.status.busy": "2022-06-15T16:10:59.876751Z",
     "iopub.status.idle": "2022-06-15T16:10:59.885474Z",
     "shell.execute_reply": "2022-06-15T16:10:59.884216Z"
    },
    "papermill": {
     "duration": 0.057901,
     "end_time": "2022-06-15T16:10:59.887726",
     "exception": false,
     "start_time": "2022-06-15T16:10:59.829825",
     "status": "completed"
    },
    "tags": []
   },
   "outputs": [],
   "source": [
    "X_train,X_test,y_train,y_test = train_test_split(X, y, random_state=0)"
   ]
  },
  {
   "cell_type": "code",
   "execution_count": 22,
   "id": "e31057ae",
   "metadata": {
    "execution": {
     "iopub.execute_input": "2022-06-15T16:10:59.983990Z",
     "iopub.status.busy": "2022-06-15T16:10:59.983661Z",
     "iopub.status.idle": "2022-06-15T16:11:00.007676Z",
     "shell.execute_reply": "2022-06-15T16:11:00.006462Z"
    },
    "papermill": {
     "duration": 0.074719,
     "end_time": "2022-06-15T16:11:00.009932",
     "exception": false,
     "start_time": "2022-06-15T16:10:59.935213",
     "status": "completed"
    },
    "tags": []
   },
   "outputs": [
    {
     "data": {
      "text/html": [
       "<div>\n",
       "<style scoped>\n",
       "    .dataframe tbody tr th:only-of-type {\n",
       "        vertical-align: middle;\n",
       "    }\n",
       "\n",
       "    .dataframe tbody tr th {\n",
       "        vertical-align: top;\n",
       "    }\n",
       "\n",
       "    .dataframe thead th {\n",
       "        text-align: right;\n",
       "    }\n",
       "</style>\n",
       "<table border=\"1\" class=\"dataframe\">\n",
       "  <thead>\n",
       "    <tr style=\"text-align: right;\">\n",
       "      <th></th>\n",
       "      <th>SibSp</th>\n",
       "      <th>Parch</th>\n",
       "      <th>Fare</th>\n",
       "      <th>Pclass_1</th>\n",
       "      <th>Pclass_2</th>\n",
       "      <th>Pclass_3</th>\n",
       "      <th>Sex_female</th>\n",
       "      <th>Sex_male</th>\n",
       "    </tr>\n",
       "  </thead>\n",
       "  <tbody>\n",
       "    <tr>\n",
       "      <th>0</th>\n",
       "      <td>1</td>\n",
       "      <td>0</td>\n",
       "      <td>7.2500</td>\n",
       "      <td>0</td>\n",
       "      <td>0</td>\n",
       "      <td>1</td>\n",
       "      <td>0</td>\n",
       "      <td>1</td>\n",
       "    </tr>\n",
       "    <tr>\n",
       "      <th>1</th>\n",
       "      <td>1</td>\n",
       "      <td>0</td>\n",
       "      <td>71.2833</td>\n",
       "      <td>1</td>\n",
       "      <td>0</td>\n",
       "      <td>0</td>\n",
       "      <td>1</td>\n",
       "      <td>0</td>\n",
       "    </tr>\n",
       "    <tr>\n",
       "      <th>2</th>\n",
       "      <td>0</td>\n",
       "      <td>0</td>\n",
       "      <td>7.9250</td>\n",
       "      <td>0</td>\n",
       "      <td>0</td>\n",
       "      <td>1</td>\n",
       "      <td>1</td>\n",
       "      <td>0</td>\n",
       "    </tr>\n",
       "    <tr>\n",
       "      <th>3</th>\n",
       "      <td>1</td>\n",
       "      <td>0</td>\n",
       "      <td>53.1000</td>\n",
       "      <td>1</td>\n",
       "      <td>0</td>\n",
       "      <td>0</td>\n",
       "      <td>1</td>\n",
       "      <td>0</td>\n",
       "    </tr>\n",
       "    <tr>\n",
       "      <th>4</th>\n",
       "      <td>0</td>\n",
       "      <td>0</td>\n",
       "      <td>8.0500</td>\n",
       "      <td>0</td>\n",
       "      <td>0</td>\n",
       "      <td>1</td>\n",
       "      <td>0</td>\n",
       "      <td>1</td>\n",
       "    </tr>\n",
       "    <tr>\n",
       "      <th>...</th>\n",
       "      <td>...</td>\n",
       "      <td>...</td>\n",
       "      <td>...</td>\n",
       "      <td>...</td>\n",
       "      <td>...</td>\n",
       "      <td>...</td>\n",
       "      <td>...</td>\n",
       "      <td>...</td>\n",
       "    </tr>\n",
       "    <tr>\n",
       "      <th>886</th>\n",
       "      <td>0</td>\n",
       "      <td>0</td>\n",
       "      <td>13.0000</td>\n",
       "      <td>0</td>\n",
       "      <td>1</td>\n",
       "      <td>0</td>\n",
       "      <td>0</td>\n",
       "      <td>1</td>\n",
       "    </tr>\n",
       "    <tr>\n",
       "      <th>887</th>\n",
       "      <td>0</td>\n",
       "      <td>0</td>\n",
       "      <td>30.0000</td>\n",
       "      <td>1</td>\n",
       "      <td>0</td>\n",
       "      <td>0</td>\n",
       "      <td>1</td>\n",
       "      <td>0</td>\n",
       "    </tr>\n",
       "    <tr>\n",
       "      <th>888</th>\n",
       "      <td>1</td>\n",
       "      <td>2</td>\n",
       "      <td>23.4500</td>\n",
       "      <td>0</td>\n",
       "      <td>0</td>\n",
       "      <td>1</td>\n",
       "      <td>1</td>\n",
       "      <td>0</td>\n",
       "    </tr>\n",
       "    <tr>\n",
       "      <th>889</th>\n",
       "      <td>0</td>\n",
       "      <td>0</td>\n",
       "      <td>30.0000</td>\n",
       "      <td>1</td>\n",
       "      <td>0</td>\n",
       "      <td>0</td>\n",
       "      <td>0</td>\n",
       "      <td>1</td>\n",
       "    </tr>\n",
       "    <tr>\n",
       "      <th>890</th>\n",
       "      <td>0</td>\n",
       "      <td>0</td>\n",
       "      <td>7.7500</td>\n",
       "      <td>0</td>\n",
       "      <td>0</td>\n",
       "      <td>1</td>\n",
       "      <td>0</td>\n",
       "      <td>1</td>\n",
       "    </tr>\n",
       "  </tbody>\n",
       "</table>\n",
       "<p>891 rows × 8 columns</p>\n",
       "</div>"
      ],
      "text/plain": [
       "     SibSp  Parch     Fare  Pclass_1  Pclass_2  Pclass_3  Sex_female  Sex_male\n",
       "0        1      0   7.2500         0         0         1           0         1\n",
       "1        1      0  71.2833         1         0         0           1         0\n",
       "2        0      0   7.9250         0         0         1           1         0\n",
       "3        1      0  53.1000         1         0         0           1         0\n",
       "4        0      0   8.0500         0         0         1           0         1\n",
       "..     ...    ...      ...       ...       ...       ...         ...       ...\n",
       "886      0      0  13.0000         0         1         0           0         1\n",
       "887      0      0  30.0000         1         0         0           1         0\n",
       "888      1      2  23.4500         0         0         1           1         0\n",
       "889      0      0  30.0000         1         0         0           0         1\n",
       "890      0      0   7.7500         0         0         1           0         1\n",
       "\n",
       "[891 rows x 8 columns]"
      ]
     },
     "execution_count": 22,
     "metadata": {},
     "output_type": "execute_result"
    }
   ],
   "source": [
    "#数値化\n",
    "X = pd.get_dummies(X, columns=['Pclass','Sex'])\n",
    "X"
   ]
  },
  {
   "cell_type": "code",
   "execution_count": 23,
   "id": "f7118fbc",
   "metadata": {
    "execution": {
     "iopub.execute_input": "2022-06-15T16:11:00.106015Z",
     "iopub.status.busy": "2022-06-15T16:11:00.105727Z",
     "iopub.status.idle": "2022-06-15T16:11:00.113952Z",
     "shell.execute_reply": "2022-06-15T16:11:00.113048Z"
    },
    "papermill": {
     "duration": 0.059282,
     "end_time": "2022-06-15T16:11:00.116081",
     "exception": false,
     "start_time": "2022-06-15T16:11:00.056799",
     "status": "completed"
    },
    "tags": []
   },
   "outputs": [],
   "source": [
    "#数値化を反映したデータに更新\n",
    "X_train,X_test,y_train,y_test = train_test_split(X, y, random_state=0)"
   ]
  },
  {
   "cell_type": "code",
   "execution_count": 24,
   "id": "7bf18513",
   "metadata": {
    "execution": {
     "iopub.execute_input": "2022-06-15T16:11:00.210867Z",
     "iopub.status.busy": "2022-06-15T16:11:00.210586Z",
     "iopub.status.idle": "2022-06-15T16:11:00.223473Z",
     "shell.execute_reply": "2022-06-15T16:11:00.222678Z"
    },
    "papermill": {
     "duration": 0.062651,
     "end_time": "2022-06-15T16:11:00.225416",
     "exception": false,
     "start_time": "2022-06-15T16:11:00.162765",
     "status": "completed"
    },
    "tags": []
   },
   "outputs": [],
   "source": [
    "#正規化\n",
    "from sklearn.preprocessing import StandardScaler\n",
    "scaler = StandardScaler()\n",
    "#fitパラメータ計算\n",
    "scaler.fit(X_train)\n",
    "#transformパラメータを用いて正規化\n",
    "X_train_sclaed = scaler.transform(X_train)\n",
    "X_test_sclaed = scaler.transform(X_test)"
   ]
  },
  {
   "cell_type": "code",
   "execution_count": 25,
   "id": "5e3df4f5",
   "metadata": {
    "execution": {
     "iopub.execute_input": "2022-06-15T16:11:00.320446Z",
     "iopub.status.busy": "2022-06-15T16:11:00.319727Z",
     "iopub.status.idle": "2022-06-15T16:11:00.475246Z",
     "shell.execute_reply": "2022-06-15T16:11:00.473299Z"
    },
    "papermill": {
     "duration": 0.206951,
     "end_time": "2022-06-15T16:11:00.478772",
     "exception": false,
     "start_time": "2022-06-15T16:11:00.271821",
     "status": "completed"
    },
    "tags": []
   },
   "outputs": [
    {
     "name": "stdout",
     "output_type": "stream",
     "text": [
      "0.8026905829596412\n",
      "1\n",
      "0.8475336322869955\n",
      "2\n"
     ]
    },
    {
     "name": "stderr",
     "output_type": "stream",
     "text": [
      "/opt/conda/lib/python3.7/site-packages/sklearn/neighbors/_classification.py:198: DataConversionWarning: A column-vector y was passed when a 1d array was expected. Please change the shape of y to (n_samples,), for example using ravel().\n",
      "  return self._fit(X, y)\n",
      "/opt/conda/lib/python3.7/site-packages/sklearn/neighbors/_classification.py:198: DataConversionWarning: A column-vector y was passed when a 1d array was expected. Please change the shape of y to (n_samples,), for example using ravel().\n",
      "  return self._fit(X, y)\n",
      "/opt/conda/lib/python3.7/site-packages/sklearn/neighbors/_classification.py:198: DataConversionWarning: A column-vector y was passed when a 1d array was expected. Please change the shape of y to (n_samples,), for example using ravel().\n",
      "  return self._fit(X, y)\n",
      "/opt/conda/lib/python3.7/site-packages/sklearn/neighbors/_classification.py:198: DataConversionWarning: A column-vector y was passed when a 1d array was expected. Please change the shape of y to (n_samples,), for example using ravel().\n",
      "  return self._fit(X, y)\n",
      "/opt/conda/lib/python3.7/site-packages/sklearn/neighbors/_classification.py:198: DataConversionWarning: A column-vector y was passed when a 1d array was expected. Please change the shape of y to (n_samples,), for example using ravel().\n",
      "  return self._fit(X, y)\n",
      "/opt/conda/lib/python3.7/site-packages/sklearn/neighbors/_classification.py:198: DataConversionWarning: A column-vector y was passed when a 1d array was expected. Please change the shape of y to (n_samples,), for example using ravel().\n",
      "  return self._fit(X, y)\n",
      "/opt/conda/lib/python3.7/site-packages/sklearn/neighbors/_classification.py:198: DataConversionWarning: A column-vector y was passed when a 1d array was expected. Please change the shape of y to (n_samples,), for example using ravel().\n",
      "  return self._fit(X, y)\n",
      "/opt/conda/lib/python3.7/site-packages/sklearn/neighbors/_classification.py:198: DataConversionWarning: A column-vector y was passed when a 1d array was expected. Please change the shape of y to (n_samples,), for example using ravel().\n",
      "  return self._fit(X, y)\n",
      "/opt/conda/lib/python3.7/site-packages/sklearn/neighbors/_classification.py:198: DataConversionWarning: A column-vector y was passed when a 1d array was expected. Please change the shape of y to (n_samples,), for example using ravel().\n",
      "  return self._fit(X, y)\n",
      "/opt/conda/lib/python3.7/site-packages/sklearn/neighbors/_classification.py:198: DataConversionWarning: A column-vector y was passed when a 1d array was expected. Please change the shape of y to (n_samples,), for example using ravel().\n",
      "  return self._fit(X, y)\n"
     ]
    },
    {
     "data": {
      "text/plain": [
       "0.8475336322869955"
      ]
     },
     "execution_count": 25,
     "metadata": {},
     "output_type": "execute_result"
    }
   ],
   "source": [
    "#学習（ｋ近傍）\n",
    "from sklearn.neighbors import KNeighborsClassifier\n",
    "max_n = 0\n",
    "score = 0\n",
    "for n in range(1,10):\n",
    "    knn = KNeighborsClassifier(n_neighbors=n)\n",
    "    knn.fit(X_train_sclaed, y_train)\n",
    "    if score < knn.score(X_test_sclaed,y_test):\n",
    "        score, max_n = knn.score(X_test_sclaed,y_test), n \n",
    "        print(score)\n",
    "        print(max_n)\n",
    "\n",
    "knn = KNeighborsClassifier(n_neighbors=max_n)\n",
    "knn.fit(X_train_sclaed, y_train)\n",
    "knn.score(X_test_sclaed,y_test)"
   ]
  },
  {
   "cell_type": "code",
   "execution_count": 26,
   "id": "0baaef2b",
   "metadata": {
    "execution": {
     "iopub.execute_input": "2022-06-15T16:11:00.581772Z",
     "iopub.status.busy": "2022-06-15T16:11:00.581426Z",
     "iopub.status.idle": "2022-06-15T16:11:00.628484Z",
     "shell.execute_reply": "2022-06-15T16:11:00.627014Z"
    },
    "papermill": {
     "duration": 0.103118,
     "end_time": "2022-06-15T16:11:00.631740",
     "exception": false,
     "start_time": "2022-06-15T16:11:00.528622",
     "status": "completed"
    },
    "tags": []
   },
   "outputs": [
    {
     "name": "stderr",
     "output_type": "stream",
     "text": [
      "/opt/conda/lib/python3.7/site-packages/ipykernel_launcher.py:12: SettingWithCopyWarning: \n",
      "A value is trying to be set on a copy of a slice from a DataFrame.\n",
      "Try using .loc[row_indexer,col_indexer] = value instead\n",
      "\n",
      "See the caveats in the documentation: https://pandas.pydata.org/pandas-docs/stable/user_guide/indexing.html#returning-a-view-versus-a-copy\n",
      "  if sys.path[0] == '':\n"
     ]
    },
    {
     "data": {
      "text/html": [
       "<div>\n",
       "<style scoped>\n",
       "    .dataframe tbody tr th:only-of-type {\n",
       "        vertical-align: middle;\n",
       "    }\n",
       "\n",
       "    .dataframe tbody tr th {\n",
       "        vertical-align: top;\n",
       "    }\n",
       "\n",
       "    .dataframe thead th {\n",
       "        text-align: right;\n",
       "    }\n",
       "</style>\n",
       "<table border=\"1\" class=\"dataframe\">\n",
       "  <thead>\n",
       "    <tr style=\"text-align: right;\">\n",
       "      <th></th>\n",
       "      <th>PassengerId</th>\n",
       "      <th>Survived</th>\n",
       "    </tr>\n",
       "  </thead>\n",
       "  <tbody>\n",
       "    <tr>\n",
       "      <th>0</th>\n",
       "      <td>892</td>\n",
       "      <td>0</td>\n",
       "    </tr>\n",
       "    <tr>\n",
       "      <th>1</th>\n",
       "      <td>893</td>\n",
       "      <td>0</td>\n",
       "    </tr>\n",
       "    <tr>\n",
       "      <th>2</th>\n",
       "      <td>894</td>\n",
       "      <td>0</td>\n",
       "    </tr>\n",
       "    <tr>\n",
       "      <th>3</th>\n",
       "      <td>895</td>\n",
       "      <td>0</td>\n",
       "    </tr>\n",
       "    <tr>\n",
       "      <th>4</th>\n",
       "      <td>896</td>\n",
       "      <td>0</td>\n",
       "    </tr>\n",
       "    <tr>\n",
       "      <th>...</th>\n",
       "      <td>...</td>\n",
       "      <td>...</td>\n",
       "    </tr>\n",
       "    <tr>\n",
       "      <th>413</th>\n",
       "      <td>1305</td>\n",
       "      <td>0</td>\n",
       "    </tr>\n",
       "    <tr>\n",
       "      <th>414</th>\n",
       "      <td>1306</td>\n",
       "      <td>1</td>\n",
       "    </tr>\n",
       "    <tr>\n",
       "      <th>415</th>\n",
       "      <td>1307</td>\n",
       "      <td>0</td>\n",
       "    </tr>\n",
       "    <tr>\n",
       "      <th>416</th>\n",
       "      <td>1308</td>\n",
       "      <td>0</td>\n",
       "    </tr>\n",
       "    <tr>\n",
       "      <th>417</th>\n",
       "      <td>1309</td>\n",
       "      <td>0</td>\n",
       "    </tr>\n",
       "  </tbody>\n",
       "</table>\n",
       "<p>418 rows × 2 columns</p>\n",
       "</div>"
      ],
      "text/plain": [
       "     PassengerId  Survived\n",
       "0            892         0\n",
       "1            893         0\n",
       "2            894         0\n",
       "3            895         0\n",
       "4            896         0\n",
       "..           ...       ...\n",
       "413         1305         0\n",
       "414         1306         1\n",
       "415         1307         0\n",
       "416         1308         0\n",
       "417         1309         0\n",
       "\n",
       "[418 rows x 2 columns]"
      ]
     },
     "execution_count": 26,
     "metadata": {},
     "output_type": "execute_result"
    }
   ],
   "source": [
    "#テスト\n",
    "X_for_submit = test[['Pclass', 'SibSp', 'Parch', 'Sex', 'Fare']]\n",
    "submit = test[['PassengerId']]\n",
    "\n",
    "X_for_submit = pd.get_dummies(X_for_submit, columns=['Pclass', 'Sex'])\n",
    "\n",
    "#nullに平均を入れる\n",
    "X_for_submit['Fare'] = X_for_submit['Fare'].fillna(X_for_submit['Fare'].mean())\n",
    "\n",
    "X_for_submit_sclaed = scaler.transform(X_for_submit)\n",
    "\n",
    "submit['Survived'] = knn.predict(X_for_submit_sclaed)\n",
    "submit"
   ]
  },
  {
   "cell_type": "markdown",
   "id": "3944267c",
   "metadata": {
    "papermill": {
     "duration": 0.049681,
     "end_time": "2022-06-15T16:11:00.733332",
     "exception": false,
     "start_time": "2022-06-15T16:11:00.683651",
     "status": "completed"
    },
    "tags": []
   },
   "source": [
    "ここからした(サポートベクターマシーン)"
   ]
  },
  {
   "cell_type": "code",
   "execution_count": 27,
   "id": "d8d28b29",
   "metadata": {
    "execution": {
     "iopub.execute_input": "2022-06-15T16:11:00.837264Z",
     "iopub.status.busy": "2022-06-15T16:11:00.836935Z",
     "iopub.status.idle": "2022-06-15T16:11:00.871598Z",
     "shell.execute_reply": "2022-06-15T16:11:00.870627Z"
    },
    "papermill": {
     "duration": 0.089875,
     "end_time": "2022-06-15T16:11:00.874100",
     "exception": false,
     "start_time": "2022-06-15T16:11:00.784225",
     "status": "completed"
    },
    "tags": []
   },
   "outputs": [
    {
     "name": "stdout",
     "output_type": "stream",
     "text": [
      "PassengerId      int64\n",
      "Survived         int64\n",
      "Pclass           int64\n",
      "Name            object\n",
      "Sex             object\n",
      "Age            float64\n",
      "SibSp            int64\n",
      "Parch            int64\n",
      "Ticket          object\n",
      "Fare           float64\n",
      "Cabin           object\n",
      "Embarked        object\n",
      "dtype: object\n",
      "PassengerId      0\n",
      "Pclass           0\n",
      "Name             0\n",
      "Sex              0\n",
      "Age             86\n",
      "SibSp            0\n",
      "Parch            0\n",
      "Ticket           0\n",
      "Fare             1\n",
      "Cabin          327\n",
      "Embarked         0\n",
      "dtype: int64\n"
     ]
    }
   ],
   "source": [
    "train = pd.read_csv(\"../input/titanic/train.csv\")\n",
    "test = pd.read_csv(\"../input/titanic/test.csv\")\n",
    "\n",
    "#型確認\n",
    "print(train.dtypes)\n",
    "\n",
    "#nullがないか確認\n",
    "print(test.isnull().sum())\n",
    "\n",
    "#データ確認\n",
    "train.head()\n",
    "\n",
    "X = train[['Pclass','SibSp','Parch', 'Sex', 'Fare']]\n",
    "y = train[['Survived']]\n",
    "\n",
    "X = pd.get_dummies(X, columns=['Pclass','Sex'])\n",
    "\n",
    "X_train,X_test,y_train,y_test = train_test_split(X, y, random_state=0)\n",
    "\n",
    "#正規化\n",
    "from sklearn.preprocessing import StandardScaler\n",
    "scaler = StandardScaler()\n",
    "#fitパラメータ計算\n",
    "scaler.fit(X_train)\n",
    "#transformパラメータを用いて正規化\n",
    "X_train_sclaed = scaler.transform(X_train)\n",
    "X_test_sclaed = scaler.transform(X_test)"
   ]
  },
  {
   "cell_type": "code",
   "execution_count": 28,
   "id": "d6cc9f2a",
   "metadata": {
    "execution": {
     "iopub.execute_input": "2022-06-15T16:11:00.976105Z",
     "iopub.status.busy": "2022-06-15T16:11:00.975762Z",
     "iopub.status.idle": "2022-06-15T16:11:01.025881Z",
     "shell.execute_reply": "2022-06-15T16:11:01.024070Z"
    },
    "papermill": {
     "duration": 0.10419,
     "end_time": "2022-06-15T16:11:01.028257",
     "exception": false,
     "start_time": "2022-06-15T16:11:00.924067",
     "status": "completed"
    },
    "tags": []
   },
   "outputs": [
    {
     "name": "stderr",
     "output_type": "stream",
     "text": [
      "/opt/conda/lib/python3.7/site-packages/sklearn/utils/validation.py:993: DataConversionWarning: A column-vector y was passed when a 1d array was expected. Please change the shape of y to (n_samples, ), for example using ravel().\n",
      "  y = column_or_1d(y, warn=True)\n",
      "/opt/conda/lib/python3.7/site-packages/sklearn/svm/_base.py:1208: ConvergenceWarning: Liblinear failed to converge, increase the number of iterations.\n",
      "  ConvergenceWarning,\n"
     ]
    },
    {
     "data": {
      "text/plain": [
       "0.7847533632286996"
      ]
     },
     "execution_count": 28,
     "metadata": {},
     "output_type": "execute_result"
    }
   ],
   "source": [
    "#学習（サポートベクターマシン）\n",
    "from sklearn.svm import LinearSVC\n",
    "\n",
    "svc = LinearSVC()\n",
    "svc.fit(X_train_sclaed, y_train)\n",
    "svc.score(X_test_sclaed,y_test)"
   ]
  },
  {
   "cell_type": "code",
   "execution_count": 29,
   "id": "778ab708",
   "metadata": {
    "execution": {
     "iopub.execute_input": "2022-06-15T16:11:01.131702Z",
     "iopub.status.busy": "2022-06-15T16:11:01.131412Z",
     "iopub.status.idle": "2022-06-15T16:11:01.174245Z",
     "shell.execute_reply": "2022-06-15T16:11:01.173365Z"
    },
    "papermill": {
     "duration": 0.097002,
     "end_time": "2022-06-15T16:11:01.177069",
     "exception": false,
     "start_time": "2022-06-15T16:11:01.080067",
     "status": "completed"
    },
    "tags": []
   },
   "outputs": [
    {
     "name": "stderr",
     "output_type": "stream",
     "text": [
      "/opt/conda/lib/python3.7/site-packages/ipykernel_launcher.py:12: SettingWithCopyWarning: \n",
      "A value is trying to be set on a copy of a slice from a DataFrame.\n",
      "Try using .loc[row_indexer,col_indexer] = value instead\n",
      "\n",
      "See the caveats in the documentation: https://pandas.pydata.org/pandas-docs/stable/user_guide/indexing.html#returning-a-view-versus-a-copy\n",
      "  if sys.path[0] == '':\n"
     ]
    },
    {
     "data": {
      "text/html": [
       "<div>\n",
       "<style scoped>\n",
       "    .dataframe tbody tr th:only-of-type {\n",
       "        vertical-align: middle;\n",
       "    }\n",
       "\n",
       "    .dataframe tbody tr th {\n",
       "        vertical-align: top;\n",
       "    }\n",
       "\n",
       "    .dataframe thead th {\n",
       "        text-align: right;\n",
       "    }\n",
       "</style>\n",
       "<table border=\"1\" class=\"dataframe\">\n",
       "  <thead>\n",
       "    <tr style=\"text-align: right;\">\n",
       "      <th></th>\n",
       "      <th>PassengerId</th>\n",
       "      <th>Survived</th>\n",
       "    </tr>\n",
       "  </thead>\n",
       "  <tbody>\n",
       "    <tr>\n",
       "      <th>0</th>\n",
       "      <td>892</td>\n",
       "      <td>0</td>\n",
       "    </tr>\n",
       "    <tr>\n",
       "      <th>1</th>\n",
       "      <td>893</td>\n",
       "      <td>0</td>\n",
       "    </tr>\n",
       "    <tr>\n",
       "      <th>2</th>\n",
       "      <td>894</td>\n",
       "      <td>0</td>\n",
       "    </tr>\n",
       "    <tr>\n",
       "      <th>3</th>\n",
       "      <td>895</td>\n",
       "      <td>0</td>\n",
       "    </tr>\n",
       "    <tr>\n",
       "      <th>4</th>\n",
       "      <td>896</td>\n",
       "      <td>0</td>\n",
       "    </tr>\n",
       "    <tr>\n",
       "      <th>...</th>\n",
       "      <td>...</td>\n",
       "      <td>...</td>\n",
       "    </tr>\n",
       "    <tr>\n",
       "      <th>413</th>\n",
       "      <td>1305</td>\n",
       "      <td>0</td>\n",
       "    </tr>\n",
       "    <tr>\n",
       "      <th>414</th>\n",
       "      <td>1306</td>\n",
       "      <td>1</td>\n",
       "    </tr>\n",
       "    <tr>\n",
       "      <th>415</th>\n",
       "      <td>1307</td>\n",
       "      <td>0</td>\n",
       "    </tr>\n",
       "    <tr>\n",
       "      <th>416</th>\n",
       "      <td>1308</td>\n",
       "      <td>0</td>\n",
       "    </tr>\n",
       "    <tr>\n",
       "      <th>417</th>\n",
       "      <td>1309</td>\n",
       "      <td>0</td>\n",
       "    </tr>\n",
       "  </tbody>\n",
       "</table>\n",
       "<p>418 rows × 2 columns</p>\n",
       "</div>"
      ],
      "text/plain": [
       "     PassengerId  Survived\n",
       "0            892         0\n",
       "1            893         0\n",
       "2            894         0\n",
       "3            895         0\n",
       "4            896         0\n",
       "..           ...       ...\n",
       "413         1305         0\n",
       "414         1306         1\n",
       "415         1307         0\n",
       "416         1308         0\n",
       "417         1309         0\n",
       "\n",
       "[418 rows x 2 columns]"
      ]
     },
     "execution_count": 29,
     "metadata": {},
     "output_type": "execute_result"
    }
   ],
   "source": [
    "#テスト\n",
    "X_for_submit = test[['Pclass', 'SibSp', 'Parch', 'Sex', 'Fare']]\n",
    "submit = test[['PassengerId']]\n",
    "\n",
    "X_for_submit = pd.get_dummies(X_for_submit, columns=['Pclass', 'Sex'])\n",
    "\n",
    "#nullに平均を入れる\n",
    "X_for_submit['Fare'] = X_for_submit['Fare'].fillna(X_for_submit['Fare'].mean())\n",
    "\n",
    "X_for_submit_sclaed = scaler.transform(X_for_submit)\n",
    "\n",
    "submit['Survived'] = knn.predict(X_for_submit_sclaed)\n",
    "submit"
   ]
  },
  {
   "cell_type": "markdown",
   "id": "10acb371",
   "metadata": {
    "papermill": {
     "duration": 0.053006,
     "end_time": "2022-06-15T16:11:01.280930",
     "exception": false,
     "start_time": "2022-06-15T16:11:01.227924",
     "status": "completed"
    },
    "tags": []
   },
   "source": [
    "ここからした（ランダムフォレスト）"
   ]
  },
  {
   "cell_type": "code",
   "execution_count": 30,
   "id": "738f14e4",
   "metadata": {
    "execution": {
     "iopub.execute_input": "2022-06-15T16:11:01.385109Z",
     "iopub.status.busy": "2022-06-15T16:11:01.384210Z",
     "iopub.status.idle": "2022-06-15T16:11:01.423843Z",
     "shell.execute_reply": "2022-06-15T16:11:01.422424Z"
    },
    "papermill": {
     "duration": 0.095464,
     "end_time": "2022-06-15T16:11:01.427406",
     "exception": false,
     "start_time": "2022-06-15T16:11:01.331942",
     "status": "completed"
    },
    "tags": []
   },
   "outputs": [
    {
     "name": "stdout",
     "output_type": "stream",
     "text": [
      "PassengerId      int64\n",
      "Survived         int64\n",
      "Pclass           int64\n",
      "Name            object\n",
      "Sex             object\n",
      "Age            float64\n",
      "SibSp            int64\n",
      "Parch            int64\n",
      "Ticket          object\n",
      "Fare           float64\n",
      "Cabin           object\n",
      "Embarked        object\n",
      "dtype: object\n",
      "PassengerId      0\n",
      "Pclass           0\n",
      "Name             0\n",
      "Sex              0\n",
      "Age             86\n",
      "SibSp            0\n",
      "Parch            0\n",
      "Ticket           0\n",
      "Fare             1\n",
      "Cabin          327\n",
      "Embarked         0\n",
      "dtype: int64\n"
     ]
    }
   ],
   "source": [
    "train = pd.read_csv(\"../input/titanic/train.csv\")\n",
    "test = pd.read_csv(\"../input/titanic/test.csv\")\n",
    "\n",
    "#型確認\n",
    "print(train.dtypes)\n",
    "\n",
    "#nullがないか確認\n",
    "print(test.isnull().sum())\n",
    "\n",
    "#データ確認\n",
    "train.head()\n",
    "\n",
    "X = train[['Pclass','SibSp','Parch', 'Sex', 'Fare']]\n",
    "y = train[['Survived']]\n",
    "\n",
    "X = pd.get_dummies(X, columns=['Pclass','Sex'])\n",
    "\n",
    "X_train,X_test,y_train,y_test = train_test_split(X, y, random_state=0)\n",
    "\n",
    "#正規化\n",
    "from sklearn.preprocessing import StandardScaler\n",
    "scaler = StandardScaler()\n",
    "#fitパラメータ計算\n",
    "scaler.fit(X_train)\n",
    "#transformパラメータを用いて正規化\n",
    "X_train_sclaed = scaler.transform(X_train)\n",
    "X_test_sclaed = scaler.transform(X_test)"
   ]
  },
  {
   "cell_type": "code",
   "execution_count": 31,
   "id": "e1f4f1e7",
   "metadata": {
    "execution": {
     "iopub.execute_input": "2022-06-15T16:11:01.535466Z",
     "iopub.status.busy": "2022-06-15T16:11:01.534343Z",
     "iopub.status.idle": "2022-06-15T16:11:01.903119Z",
     "shell.execute_reply": "2022-06-15T16:11:01.902074Z"
    },
    "papermill": {
     "duration": 0.423792,
     "end_time": "2022-06-15T16:11:01.905384",
     "exception": false,
     "start_time": "2022-06-15T16:11:01.481592",
     "status": "completed"
    },
    "tags": []
   },
   "outputs": [
    {
     "name": "stderr",
     "output_type": "stream",
     "text": [
      "/opt/conda/lib/python3.7/site-packages/ipykernel_launcher.py:4: DataConversionWarning: A column-vector y was passed when a 1d array was expected. Please change the shape of y to (n_samples,), for example using ravel().\n",
      "  after removing the cwd from sys.path.\n"
     ]
    },
    {
     "data": {
      "text/plain": [
       "0.8251121076233184"
      ]
     },
     "execution_count": 31,
     "metadata": {},
     "output_type": "execute_result"
    }
   ],
   "source": [
    "from sklearn.ensemble import RandomForestClassifier\n",
    "\n",
    "clf = RandomForestClassifier()\n",
    "clf.fit(X_train_sclaed, y_train)\n",
    "clf.score(X_test_sclaed,y_test)"
   ]
  },
  {
   "cell_type": "code",
   "execution_count": 32,
   "id": "448766b8",
   "metadata": {
    "execution": {
     "iopub.execute_input": "2022-06-15T16:11:02.013411Z",
     "iopub.status.busy": "2022-06-15T16:11:02.012220Z",
     "iopub.status.idle": "2022-06-15T16:11:02.058517Z",
     "shell.execute_reply": "2022-06-15T16:11:02.056979Z"
    },
    "papermill": {
     "duration": 0.103797,
     "end_time": "2022-06-15T16:11:02.061790",
     "exception": false,
     "start_time": "2022-06-15T16:11:01.957993",
     "status": "completed"
    },
    "tags": []
   },
   "outputs": [
    {
     "name": "stderr",
     "output_type": "stream",
     "text": [
      "/opt/conda/lib/python3.7/site-packages/ipykernel_launcher.py:12: SettingWithCopyWarning: \n",
      "A value is trying to be set on a copy of a slice from a DataFrame.\n",
      "Try using .loc[row_indexer,col_indexer] = value instead\n",
      "\n",
      "See the caveats in the documentation: https://pandas.pydata.org/pandas-docs/stable/user_guide/indexing.html#returning-a-view-versus-a-copy\n",
      "  if sys.path[0] == '':\n"
     ]
    },
    {
     "data": {
      "text/html": [
       "<div>\n",
       "<style scoped>\n",
       "    .dataframe tbody tr th:only-of-type {\n",
       "        vertical-align: middle;\n",
       "    }\n",
       "\n",
       "    .dataframe tbody tr th {\n",
       "        vertical-align: top;\n",
       "    }\n",
       "\n",
       "    .dataframe thead th {\n",
       "        text-align: right;\n",
       "    }\n",
       "</style>\n",
       "<table border=\"1\" class=\"dataframe\">\n",
       "  <thead>\n",
       "    <tr style=\"text-align: right;\">\n",
       "      <th></th>\n",
       "      <th>PassengerId</th>\n",
       "      <th>Survived</th>\n",
       "    </tr>\n",
       "  </thead>\n",
       "  <tbody>\n",
       "    <tr>\n",
       "      <th>0</th>\n",
       "      <td>892</td>\n",
       "      <td>0</td>\n",
       "    </tr>\n",
       "    <tr>\n",
       "      <th>1</th>\n",
       "      <td>893</td>\n",
       "      <td>0</td>\n",
       "    </tr>\n",
       "    <tr>\n",
       "      <th>2</th>\n",
       "      <td>894</td>\n",
       "      <td>0</td>\n",
       "    </tr>\n",
       "    <tr>\n",
       "      <th>3</th>\n",
       "      <td>895</td>\n",
       "      <td>0</td>\n",
       "    </tr>\n",
       "    <tr>\n",
       "      <th>4</th>\n",
       "      <td>896</td>\n",
       "      <td>0</td>\n",
       "    </tr>\n",
       "    <tr>\n",
       "      <th>...</th>\n",
       "      <td>...</td>\n",
       "      <td>...</td>\n",
       "    </tr>\n",
       "    <tr>\n",
       "      <th>413</th>\n",
       "      <td>1305</td>\n",
       "      <td>0</td>\n",
       "    </tr>\n",
       "    <tr>\n",
       "      <th>414</th>\n",
       "      <td>1306</td>\n",
       "      <td>1</td>\n",
       "    </tr>\n",
       "    <tr>\n",
       "      <th>415</th>\n",
       "      <td>1307</td>\n",
       "      <td>0</td>\n",
       "    </tr>\n",
       "    <tr>\n",
       "      <th>416</th>\n",
       "      <td>1308</td>\n",
       "      <td>0</td>\n",
       "    </tr>\n",
       "    <tr>\n",
       "      <th>417</th>\n",
       "      <td>1309</td>\n",
       "      <td>0</td>\n",
       "    </tr>\n",
       "  </tbody>\n",
       "</table>\n",
       "<p>418 rows × 2 columns</p>\n",
       "</div>"
      ],
      "text/plain": [
       "     PassengerId  Survived\n",
       "0            892         0\n",
       "1            893         0\n",
       "2            894         0\n",
       "3            895         0\n",
       "4            896         0\n",
       "..           ...       ...\n",
       "413         1305         0\n",
       "414         1306         1\n",
       "415         1307         0\n",
       "416         1308         0\n",
       "417         1309         0\n",
       "\n",
       "[418 rows x 2 columns]"
      ]
     },
     "execution_count": 32,
     "metadata": {},
     "output_type": "execute_result"
    }
   ],
   "source": [
    "#テスト\n",
    "X_for_submit = test[['Pclass', 'SibSp', 'Parch', 'Sex', 'Fare']]\n",
    "submit = test[['PassengerId']]\n",
    "\n",
    "X_for_submit = pd.get_dummies(X_for_submit, columns=['Pclass', 'Sex'])\n",
    "\n",
    "#nullに平均を入れる\n",
    "X_for_submit['Fare'] = X_for_submit['Fare'].fillna(X_for_submit['Fare'].mean())\n",
    "\n",
    "X_for_submit_sclaed = scaler.transform(X_for_submit)\n",
    "\n",
    "submit['Survived'] = knn.predict(X_for_submit_sclaed)\n",
    "submit"
   ]
  },
  {
   "cell_type": "markdown",
   "id": "7f868fa5",
   "metadata": {
    "papermill": {
     "duration": 0.052232,
     "end_time": "2022-06-15T16:11:02.167257",
     "exception": false,
     "start_time": "2022-06-15T16:11:02.115025",
     "status": "completed"
    },
    "tags": []
   },
   "source": [
    "ここからした（）"
   ]
  },
  {
   "cell_type": "code",
   "execution_count": 33,
   "id": "90f18a48",
   "metadata": {
    "execution": {
     "iopub.execute_input": "2022-06-15T16:11:02.276274Z",
     "iopub.status.busy": "2022-06-15T16:11:02.275918Z",
     "iopub.status.idle": "2022-06-15T16:11:02.285058Z",
     "shell.execute_reply": "2022-06-15T16:11:02.284381Z"
    },
    "papermill": {
     "duration": 0.065945,
     "end_time": "2022-06-15T16:11:02.287159",
     "exception": false,
     "start_time": "2022-06-15T16:11:02.221214",
     "status": "completed"
    },
    "tags": []
   },
   "outputs": [],
   "source": [
    "submit.to_csv('submission.csv', index=False)"
   ]
  },
  {
   "cell_type": "code",
   "execution_count": null,
   "id": "87fae07c",
   "metadata": {
    "papermill": {
     "duration": 0.052807,
     "end_time": "2022-06-15T16:11:02.397462",
     "exception": false,
     "start_time": "2022-06-15T16:11:02.344655",
     "status": "completed"
    },
    "tags": []
   },
   "outputs": [],
   "source": []
  }
 ],
 "metadata": {
  "kernelspec": {
   "display_name": "Python 3",
   "language": "python",
   "name": "python3"
  },
  "language_info": {
   "codemirror_mode": {
    "name": "ipython",
    "version": 3
   },
   "file_extension": ".py",
   "mimetype": "text/x-python",
   "name": "python",
   "nbconvert_exporter": "python",
   "pygments_lexer": "ipython3",
   "version": "3.7.12"
  },
  "papermill": {
   "default_parameters": {},
   "duration": 17.599293,
   "end_time": "2022-06-15T16:11:03.374753",
   "environment_variables": {},
   "exception": null,
   "input_path": "__notebook__.ipynb",
   "output_path": "__notebook__.ipynb",
   "parameters": {},
   "start_time": "2022-06-15T16:10:45.775460",
   "version": "2.3.4"
  }
 },
 "nbformat": 4,
 "nbformat_minor": 5
}
