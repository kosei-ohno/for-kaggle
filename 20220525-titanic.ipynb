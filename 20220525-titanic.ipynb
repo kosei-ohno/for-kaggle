{
 "cells": [
  {
   "cell_type": "code",
   "execution_count": 1,
   "id": "ccba7e08",
   "metadata": {
    "_cell_guid": "b1076dfc-b9ad-4769-8c92-a6c4dae69d19",
    "_uuid": "8f2839f25d086af736a60e9eeb907d3b93b6e0e5",
    "execution": {
     "iopub.execute_input": "2022-05-30T11:17:04.799368Z",
     "iopub.status.busy": "2022-05-30T11:17:04.799029Z",
     "iopub.status.idle": "2022-05-30T11:17:04.810694Z",
     "shell.execute_reply": "2022-05-30T11:17:04.810037Z"
    },
    "papermill": {
     "duration": 0.044328,
     "end_time": "2022-05-30T11:17:04.813146",
     "exception": false,
     "start_time": "2022-05-30T11:17:04.768818",
     "status": "completed"
    },
    "tags": []
   },
   "outputs": [
    {
     "name": "stdout",
     "output_type": "stream",
     "text": [
      "/kaggle/input/titanic/train.csv\n",
      "/kaggle/input/titanic/test.csv\n",
      "/kaggle/input/titanic/gender_submission.csv\n"
     ]
    }
   ],
   "source": [
    "# This Python 3 environment comes with many helpful analytics libraries installed\n",
    "# It is defined by the kaggle/python Docker image: https://github.com/kaggle/docker-python\n",
    "# For example, here's several helpful packages to load\n",
    "\n",
    "import numpy as np # linear algebra\n",
    "import pandas as pd # data processing, CSV file I/O (e.g. pd.read_csv)\n",
    "\n",
    "# Input data files are available in the read-only \"../input/\" directory\n",
    "# For example, running this (by clicking run or pressing Shift+Enter) will list all files under the input directory\n",
    "\n",
    "import os\n",
    "for dirname, _, filenames in os.walk('/kaggle/input'):\n",
    "    for filename in filenames:\n",
    "        print(os.path.join(dirname, filename))\n",
    "\n",
    "# You can write up to 20GB to the current directory (/kaggle/working/) that gets preserved as output when you create a version using \"Save & Run All\" \n",
    "# You can also write temporary files to /kaggle/temp/, but they won't be saved outside of the current session"
   ]
  },
  {
   "cell_type": "markdown",
   "id": "54149875",
   "metadata": {
    "papermill": {
     "duration": 0.027871,
     "end_time": "2022-05-30T11:17:04.871687",
     "exception": false,
     "start_time": "2022-05-30T11:17:04.843816",
     "status": "completed"
    },
    "tags": []
   },
   "source": []
  },
  {
   "cell_type": "code",
   "execution_count": 2,
   "id": "83d58448",
   "metadata": {
    "execution": {
     "iopub.execute_input": "2022-05-30T11:17:04.929580Z",
     "iopub.status.busy": "2022-05-30T11:17:04.929273Z",
     "iopub.status.idle": "2022-05-30T11:17:04.936307Z",
     "shell.execute_reply": "2022-05-30T11:17:04.935769Z"
    },
    "papermill": {
     "duration": 0.038102,
     "end_time": "2022-05-30T11:17:04.938267",
     "exception": false,
     "start_time": "2022-05-30T11:17:04.900165",
     "status": "completed"
    },
    "tags": []
   },
   "outputs": [
    {
     "data": {
      "text/plain": [
       "\"\\n流れ\\ntrainデータとtestデータの読み込み\\n↓\\nXに説明変数、yに目的変数を設定\\n↓\\ntrainデータをtrainとtestに分ける\\n↓\\nこんな感じ\\nX_train\\nX_test\\ny_train\\ny_test\\n↓\\n学習:knn.fit(X_train, y_train)\\nテスト：knn.score(X_test,y_test)\\n↓\\nテストデータ：X_for_submit = test[['Pclass', 'SibSp', 'Parch']]\\n\\nsubmit = test[['PassengerId']]\\nsubmit['Survived'] = knn.predict(X_for_submit) (predictで予測し、予測した値をsubmitに入れる)\\n\\n\""
      ]
     },
     "execution_count": 2,
     "metadata": {},
     "output_type": "execute_result"
    }
   ],
   "source": [
    "\"\"\"\n",
    "流れ\n",
    "trainデータとtestデータの読み込み\n",
    "↓\n",
    "Xに説明変数、yに目的変数を設定\n",
    "↓\n",
    "trainデータをtrainとtestに分ける\n",
    "↓\n",
    "こんな感じ\n",
    "X_train\n",
    "X_test\n",
    "y_train\n",
    "y_test\n",
    "↓\n",
    "学習:knn.fit(X_train, y_train)\n",
    "テスト：knn.score(X_test,y_test)\n",
    "↓\n",
    "テストデータ：X_for_submit = test[['Pclass', 'SibSp', 'Parch']]\n",
    "\n",
    "submit = test[['PassengerId']]\n",
    "submit['Survived'] = knn.predict(X_for_submit) (predictで予測し、予測した値をsubmitに入れる)\n",
    "\n",
    "\"\"\""
   ]
  },
  {
   "cell_type": "markdown",
   "id": "050d3822",
   "metadata": {
    "papermill": {
     "duration": 0.029409,
     "end_time": "2022-05-30T11:17:04.999328",
     "exception": false,
     "start_time": "2022-05-30T11:17:04.969919",
     "status": "completed"
    },
    "tags": []
   },
   "source": []
  },
  {
   "cell_type": "code",
   "execution_count": 3,
   "id": "8c5d3bdd",
   "metadata": {
    "execution": {
     "iopub.execute_input": "2022-05-30T11:17:05.058866Z",
     "iopub.status.busy": "2022-05-30T11:17:05.058138Z",
     "iopub.status.idle": "2022-05-30T11:17:05.101450Z",
     "shell.execute_reply": "2022-05-30T11:17:05.100897Z"
    },
    "papermill": {
     "duration": 0.075061,
     "end_time": "2022-05-30T11:17:05.103152",
     "exception": false,
     "start_time": "2022-05-30T11:17:05.028091",
     "status": "completed"
    },
    "tags": []
   },
   "outputs": [
    {
     "data": {
      "text/html": [
       "<div>\n",
       "<style scoped>\n",
       "    .dataframe tbody tr th:only-of-type {\n",
       "        vertical-align: middle;\n",
       "    }\n",
       "\n",
       "    .dataframe tbody tr th {\n",
       "        vertical-align: top;\n",
       "    }\n",
       "\n",
       "    .dataframe thead th {\n",
       "        text-align: right;\n",
       "    }\n",
       "</style>\n",
       "<table border=\"1\" class=\"dataframe\">\n",
       "  <thead>\n",
       "    <tr style=\"text-align: right;\">\n",
       "      <th></th>\n",
       "      <th>PassengerId</th>\n",
       "      <th>Pclass</th>\n",
       "      <th>Name</th>\n",
       "      <th>Sex</th>\n",
       "      <th>Age</th>\n",
       "      <th>SibSp</th>\n",
       "      <th>Parch</th>\n",
       "      <th>Ticket</th>\n",
       "      <th>Fare</th>\n",
       "      <th>Cabin</th>\n",
       "      <th>Embarked</th>\n",
       "    </tr>\n",
       "  </thead>\n",
       "  <tbody>\n",
       "    <tr>\n",
       "      <th>0</th>\n",
       "      <td>892</td>\n",
       "      <td>3</td>\n",
       "      <td>Kelly, Mr. James</td>\n",
       "      <td>male</td>\n",
       "      <td>34.5</td>\n",
       "      <td>0</td>\n",
       "      <td>0</td>\n",
       "      <td>330911</td>\n",
       "      <td>7.8292</td>\n",
       "      <td>NaN</td>\n",
       "      <td>Q</td>\n",
       "    </tr>\n",
       "    <tr>\n",
       "      <th>1</th>\n",
       "      <td>893</td>\n",
       "      <td>3</td>\n",
       "      <td>Wilkes, Mrs. James (Ellen Needs)</td>\n",
       "      <td>female</td>\n",
       "      <td>47.0</td>\n",
       "      <td>1</td>\n",
       "      <td>0</td>\n",
       "      <td>363272</td>\n",
       "      <td>7.0000</td>\n",
       "      <td>NaN</td>\n",
       "      <td>S</td>\n",
       "    </tr>\n",
       "    <tr>\n",
       "      <th>2</th>\n",
       "      <td>894</td>\n",
       "      <td>2</td>\n",
       "      <td>Myles, Mr. Thomas Francis</td>\n",
       "      <td>male</td>\n",
       "      <td>62.0</td>\n",
       "      <td>0</td>\n",
       "      <td>0</td>\n",
       "      <td>240276</td>\n",
       "      <td>9.6875</td>\n",
       "      <td>NaN</td>\n",
       "      <td>Q</td>\n",
       "    </tr>\n",
       "    <tr>\n",
       "      <th>3</th>\n",
       "      <td>895</td>\n",
       "      <td>3</td>\n",
       "      <td>Wirz, Mr. Albert</td>\n",
       "      <td>male</td>\n",
       "      <td>27.0</td>\n",
       "      <td>0</td>\n",
       "      <td>0</td>\n",
       "      <td>315154</td>\n",
       "      <td>8.6625</td>\n",
       "      <td>NaN</td>\n",
       "      <td>S</td>\n",
       "    </tr>\n",
       "    <tr>\n",
       "      <th>4</th>\n",
       "      <td>896</td>\n",
       "      <td>3</td>\n",
       "      <td>Hirvonen, Mrs. Alexander (Helga E Lindqvist)</td>\n",
       "      <td>female</td>\n",
       "      <td>22.0</td>\n",
       "      <td>1</td>\n",
       "      <td>1</td>\n",
       "      <td>3101298</td>\n",
       "      <td>12.2875</td>\n",
       "      <td>NaN</td>\n",
       "      <td>S</td>\n",
       "    </tr>\n",
       "  </tbody>\n",
       "</table>\n",
       "</div>"
      ],
      "text/plain": [
       "   PassengerId  Pclass                                          Name     Sex  \\\n",
       "0          892       3                              Kelly, Mr. James    male   \n",
       "1          893       3              Wilkes, Mrs. James (Ellen Needs)  female   \n",
       "2          894       2                     Myles, Mr. Thomas Francis    male   \n",
       "3          895       3                              Wirz, Mr. Albert    male   \n",
       "4          896       3  Hirvonen, Mrs. Alexander (Helga E Lindqvist)  female   \n",
       "\n",
       "    Age  SibSp  Parch   Ticket     Fare Cabin Embarked  \n",
       "0  34.5      0      0   330911   7.8292   NaN        Q  \n",
       "1  47.0      1      0   363272   7.0000   NaN        S  \n",
       "2  62.0      0      0   240276   9.6875   NaN        Q  \n",
       "3  27.0      0      0   315154   8.6625   NaN        S  \n",
       "4  22.0      1      1  3101298  12.2875   NaN        S  "
      ]
     },
     "execution_count": 3,
     "metadata": {},
     "output_type": "execute_result"
    }
   ],
   "source": [
    "train = pd.read_csv(\"../input/titanic/train.csv\")\n",
    "test = pd.read_csv(\"../input/titanic/test.csv\")\n",
    "\n",
    "test.head()\n",
    "#print(train.info())"
   ]
  },
  {
   "cell_type": "code",
   "execution_count": 4,
   "id": "fe7def68",
   "metadata": {
    "execution": {
     "iopub.execute_input": "2022-05-30T11:17:05.164567Z",
     "iopub.status.busy": "2022-05-30T11:17:05.164007Z",
     "iopub.status.idle": "2022-05-30T11:17:05.174542Z",
     "shell.execute_reply": "2022-05-30T11:17:05.173851Z"
    },
    "papermill": {
     "duration": 0.04392,
     "end_time": "2022-05-30T11:17:05.176647",
     "exception": false,
     "start_time": "2022-05-30T11:17:05.132727",
     "status": "completed"
    },
    "tags": []
   },
   "outputs": [],
   "source": [
    "X = train[['Pclass', 'SibSp', 'Parch']]\n",
    "y = train[['Survived']]"
   ]
  },
  {
   "cell_type": "code",
   "execution_count": 5,
   "id": "5ef8f79a",
   "metadata": {
    "execution": {
     "iopub.execute_input": "2022-05-30T11:17:05.239032Z",
     "iopub.status.busy": "2022-05-30T11:17:05.238502Z",
     "iopub.status.idle": "2022-05-30T11:17:06.447443Z",
     "shell.execute_reply": "2022-05-30T11:17:06.446746Z"
    },
    "papermill": {
     "duration": 1.24274,
     "end_time": "2022-05-30T11:17:06.449610",
     "exception": false,
     "start_time": "2022-05-30T11:17:05.206870",
     "status": "completed"
    },
    "tags": []
   },
   "outputs": [],
   "source": [
    "from sklearn.model_selection import train_test_split\n",
    "\n",
    "X_train,X_test,y_train,y_test = train_test_split(X, y, random_state=0)"
   ]
  },
  {
   "cell_type": "code",
   "execution_count": 6,
   "id": "973e718f",
   "metadata": {
    "execution": {
     "iopub.execute_input": "2022-05-30T11:17:06.508546Z",
     "iopub.status.busy": "2022-05-30T11:17:06.508142Z",
     "iopub.status.idle": "2022-05-30T11:17:06.658510Z",
     "shell.execute_reply": "2022-05-30T11:17:06.657849Z"
    },
    "papermill": {
     "duration": 0.182365,
     "end_time": "2022-05-30T11:17:06.660835",
     "exception": false,
     "start_time": "2022-05-30T11:17:06.478470",
     "status": "completed"
    },
    "tags": []
   },
   "outputs": [
    {
     "name": "stderr",
     "output_type": "stream",
     "text": [
      "/opt/conda/lib/python3.7/site-packages/sklearn/neighbors/_classification.py:198: DataConversionWarning: A column-vector y was passed when a 1d array was expected. Please change the shape of y to (n_samples,), for example using ravel().\n",
      "  return self._fit(X, y)\n"
     ]
    },
    {
     "data": {
      "text/plain": [
       "KNeighborsClassifier(n_neighbors=3)"
      ]
     },
     "execution_count": 6,
     "metadata": {},
     "output_type": "execute_result"
    }
   ],
   "source": [
    "from sklearn.neighbors import KNeighborsClassifier\n",
    "\n",
    "knn = KNeighborsClassifier(n_neighbors=3)\n",
    "knn.fit(X_train, y_train)"
   ]
  },
  {
   "cell_type": "code",
   "execution_count": 7,
   "id": "56ee1277",
   "metadata": {
    "execution": {
     "iopub.execute_input": "2022-05-30T11:17:06.720936Z",
     "iopub.status.busy": "2022-05-30T11:17:06.720502Z",
     "iopub.status.idle": "2022-05-30T11:17:06.734041Z",
     "shell.execute_reply": "2022-05-30T11:17:06.733412Z"
    },
    "papermill": {
     "duration": 0.045563,
     "end_time": "2022-05-30T11:17:06.735857",
     "exception": false,
     "start_time": "2022-05-30T11:17:06.690294",
     "status": "completed"
    },
    "tags": []
   },
   "outputs": [
    {
     "data": {
      "text/plain": [
       "0.6636771300448431"
      ]
     },
     "execution_count": 7,
     "metadata": {},
     "output_type": "execute_result"
    }
   ],
   "source": [
    "knn.score(X_test,y_test)"
   ]
  },
  {
   "cell_type": "code",
   "execution_count": 8,
   "id": "83dc6aaf",
   "metadata": {
    "execution": {
     "iopub.execute_input": "2022-05-30T11:17:06.797939Z",
     "iopub.status.busy": "2022-05-30T11:17:06.797502Z",
     "iopub.status.idle": "2022-05-30T11:17:06.819282Z",
     "shell.execute_reply": "2022-05-30T11:17:06.818629Z"
    },
    "papermill": {
     "duration": 0.055013,
     "end_time": "2022-05-30T11:17:06.821387",
     "exception": false,
     "start_time": "2022-05-30T11:17:06.766374",
     "status": "completed"
    },
    "tags": []
   },
   "outputs": [
    {
     "name": "stderr",
     "output_type": "stream",
     "text": [
      "/opt/conda/lib/python3.7/site-packages/ipykernel_launcher.py:3: SettingWithCopyWarning: \n",
      "A value is trying to be set on a copy of a slice from a DataFrame.\n",
      "Try using .loc[row_indexer,col_indexer] = value instead\n",
      "\n",
      "See the caveats in the documentation: https://pandas.pydata.org/pandas-docs/stable/user_guide/indexing.html#returning-a-view-versus-a-copy\n",
      "  This is separate from the ipykernel package so we can avoid doing imports until\n"
     ]
    }
   ],
   "source": [
    "X_for_submit = test[['Pclass','SibSp','Parch']]\n",
    "submit = test[['PassengerId']]\n",
    "submit['Survived'] = knn.predict(X_for_submit)"
   ]
  },
  {
   "cell_type": "code",
   "execution_count": 9,
   "id": "c6e1b2b3",
   "metadata": {
    "execution": {
     "iopub.execute_input": "2022-05-30T11:17:06.884661Z",
     "iopub.status.busy": "2022-05-30T11:17:06.883990Z",
     "iopub.status.idle": "2022-05-30T11:17:06.894891Z",
     "shell.execute_reply": "2022-05-30T11:17:06.893981Z"
    },
    "papermill": {
     "duration": 0.04498,
     "end_time": "2022-05-30T11:17:06.896826",
     "exception": false,
     "start_time": "2022-05-30T11:17:06.851846",
     "status": "completed"
    },
    "tags": []
   },
   "outputs": [
    {
     "data": {
      "text/html": [
       "<div>\n",
       "<style scoped>\n",
       "    .dataframe tbody tr th:only-of-type {\n",
       "        vertical-align: middle;\n",
       "    }\n",
       "\n",
       "    .dataframe tbody tr th {\n",
       "        vertical-align: top;\n",
       "    }\n",
       "\n",
       "    .dataframe thead th {\n",
       "        text-align: right;\n",
       "    }\n",
       "</style>\n",
       "<table border=\"1\" class=\"dataframe\">\n",
       "  <thead>\n",
       "    <tr style=\"text-align: right;\">\n",
       "      <th></th>\n",
       "      <th>PassengerId</th>\n",
       "      <th>Survived</th>\n",
       "    </tr>\n",
       "  </thead>\n",
       "  <tbody>\n",
       "    <tr>\n",
       "      <th>0</th>\n",
       "      <td>892</td>\n",
       "      <td>0</td>\n",
       "    </tr>\n",
       "    <tr>\n",
       "      <th>1</th>\n",
       "      <td>893</td>\n",
       "      <td>0</td>\n",
       "    </tr>\n",
       "    <tr>\n",
       "      <th>2</th>\n",
       "      <td>894</td>\n",
       "      <td>1</td>\n",
       "    </tr>\n",
       "    <tr>\n",
       "      <th>3</th>\n",
       "      <td>895</td>\n",
       "      <td>0</td>\n",
       "    </tr>\n",
       "    <tr>\n",
       "      <th>4</th>\n",
       "      <td>896</td>\n",
       "      <td>0</td>\n",
       "    </tr>\n",
       "    <tr>\n",
       "      <th>...</th>\n",
       "      <td>...</td>\n",
       "      <td>...</td>\n",
       "    </tr>\n",
       "    <tr>\n",
       "      <th>413</th>\n",
       "      <td>1305</td>\n",
       "      <td>0</td>\n",
       "    </tr>\n",
       "    <tr>\n",
       "      <th>414</th>\n",
       "      <td>1306</td>\n",
       "      <td>1</td>\n",
       "    </tr>\n",
       "    <tr>\n",
       "      <th>415</th>\n",
       "      <td>1307</td>\n",
       "      <td>0</td>\n",
       "    </tr>\n",
       "    <tr>\n",
       "      <th>416</th>\n",
       "      <td>1308</td>\n",
       "      <td>0</td>\n",
       "    </tr>\n",
       "    <tr>\n",
       "      <th>417</th>\n",
       "      <td>1309</td>\n",
       "      <td>0</td>\n",
       "    </tr>\n",
       "  </tbody>\n",
       "</table>\n",
       "<p>418 rows × 2 columns</p>\n",
       "</div>"
      ],
      "text/plain": [
       "     PassengerId  Survived\n",
       "0            892         0\n",
       "1            893         0\n",
       "2            894         1\n",
       "3            895         0\n",
       "4            896         0\n",
       "..           ...       ...\n",
       "413         1305         0\n",
       "414         1306         1\n",
       "415         1307         0\n",
       "416         1308         0\n",
       "417         1309         0\n",
       "\n",
       "[418 rows x 2 columns]"
      ]
     },
     "execution_count": 9,
     "metadata": {},
     "output_type": "execute_result"
    }
   ],
   "source": [
    "submit"
   ]
  },
  {
   "cell_type": "code",
   "execution_count": 10,
   "id": "344e2074",
   "metadata": {
    "execution": {
     "iopub.execute_input": "2022-05-30T11:17:06.959679Z",
     "iopub.status.busy": "2022-05-30T11:17:06.959395Z",
     "iopub.status.idle": "2022-05-30T11:17:06.964378Z",
     "shell.execute_reply": "2022-05-30T11:17:06.963730Z"
    },
    "papermill": {
     "duration": 0.038507,
     "end_time": "2022-05-30T11:17:06.966274",
     "exception": false,
     "start_time": "2022-05-30T11:17:06.927767",
     "status": "completed"
    },
    "tags": []
   },
   "outputs": [],
   "source": [
    "X = train[['Pclass', 'SibSp', 'Parch', 'Sex']]\n",
    "y = train[['Survived']]"
   ]
  },
  {
   "cell_type": "code",
   "execution_count": 11,
   "id": "2f4063bf",
   "metadata": {
    "execution": {
     "iopub.execute_input": "2022-05-30T11:17:07.028879Z",
     "iopub.status.busy": "2022-05-30T11:17:07.028381Z",
     "iopub.status.idle": "2022-05-30T11:17:07.046544Z",
     "shell.execute_reply": "2022-05-30T11:17:07.045865Z"
    },
    "papermill": {
     "duration": 0.05213,
     "end_time": "2022-05-30T11:17:07.048461",
     "exception": false,
     "start_time": "2022-05-30T11:17:06.996331",
     "status": "completed"
    },
    "tags": []
   },
   "outputs": [
    {
     "data": {
      "text/html": [
       "<div>\n",
       "<style scoped>\n",
       "    .dataframe tbody tr th:only-of-type {\n",
       "        vertical-align: middle;\n",
       "    }\n",
       "\n",
       "    .dataframe tbody tr th {\n",
       "        vertical-align: top;\n",
       "    }\n",
       "\n",
       "    .dataframe thead th {\n",
       "        text-align: right;\n",
       "    }\n",
       "</style>\n",
       "<table border=\"1\" class=\"dataframe\">\n",
       "  <thead>\n",
       "    <tr style=\"text-align: right;\">\n",
       "      <th></th>\n",
       "      <th>SibSp</th>\n",
       "      <th>Parch</th>\n",
       "      <th>Pclass_1</th>\n",
       "      <th>Pclass_2</th>\n",
       "      <th>Pclass_3</th>\n",
       "      <th>Sex_female</th>\n",
       "      <th>Sex_male</th>\n",
       "    </tr>\n",
       "  </thead>\n",
       "  <tbody>\n",
       "    <tr>\n",
       "      <th>0</th>\n",
       "      <td>1</td>\n",
       "      <td>0</td>\n",
       "      <td>0</td>\n",
       "      <td>0</td>\n",
       "      <td>1</td>\n",
       "      <td>0</td>\n",
       "      <td>1</td>\n",
       "    </tr>\n",
       "    <tr>\n",
       "      <th>1</th>\n",
       "      <td>1</td>\n",
       "      <td>0</td>\n",
       "      <td>1</td>\n",
       "      <td>0</td>\n",
       "      <td>0</td>\n",
       "      <td>1</td>\n",
       "      <td>0</td>\n",
       "    </tr>\n",
       "    <tr>\n",
       "      <th>2</th>\n",
       "      <td>0</td>\n",
       "      <td>0</td>\n",
       "      <td>0</td>\n",
       "      <td>0</td>\n",
       "      <td>1</td>\n",
       "      <td>1</td>\n",
       "      <td>0</td>\n",
       "    </tr>\n",
       "    <tr>\n",
       "      <th>3</th>\n",
       "      <td>1</td>\n",
       "      <td>0</td>\n",
       "      <td>1</td>\n",
       "      <td>0</td>\n",
       "      <td>0</td>\n",
       "      <td>1</td>\n",
       "      <td>0</td>\n",
       "    </tr>\n",
       "    <tr>\n",
       "      <th>4</th>\n",
       "      <td>0</td>\n",
       "      <td>0</td>\n",
       "      <td>0</td>\n",
       "      <td>0</td>\n",
       "      <td>1</td>\n",
       "      <td>0</td>\n",
       "      <td>1</td>\n",
       "    </tr>\n",
       "    <tr>\n",
       "      <th>...</th>\n",
       "      <td>...</td>\n",
       "      <td>...</td>\n",
       "      <td>...</td>\n",
       "      <td>...</td>\n",
       "      <td>...</td>\n",
       "      <td>...</td>\n",
       "      <td>...</td>\n",
       "    </tr>\n",
       "    <tr>\n",
       "      <th>886</th>\n",
       "      <td>0</td>\n",
       "      <td>0</td>\n",
       "      <td>0</td>\n",
       "      <td>1</td>\n",
       "      <td>0</td>\n",
       "      <td>0</td>\n",
       "      <td>1</td>\n",
       "    </tr>\n",
       "    <tr>\n",
       "      <th>887</th>\n",
       "      <td>0</td>\n",
       "      <td>0</td>\n",
       "      <td>1</td>\n",
       "      <td>0</td>\n",
       "      <td>0</td>\n",
       "      <td>1</td>\n",
       "      <td>0</td>\n",
       "    </tr>\n",
       "    <tr>\n",
       "      <th>888</th>\n",
       "      <td>1</td>\n",
       "      <td>2</td>\n",
       "      <td>0</td>\n",
       "      <td>0</td>\n",
       "      <td>1</td>\n",
       "      <td>1</td>\n",
       "      <td>0</td>\n",
       "    </tr>\n",
       "    <tr>\n",
       "      <th>889</th>\n",
       "      <td>0</td>\n",
       "      <td>0</td>\n",
       "      <td>1</td>\n",
       "      <td>0</td>\n",
       "      <td>0</td>\n",
       "      <td>0</td>\n",
       "      <td>1</td>\n",
       "    </tr>\n",
       "    <tr>\n",
       "      <th>890</th>\n",
       "      <td>0</td>\n",
       "      <td>0</td>\n",
       "      <td>0</td>\n",
       "      <td>0</td>\n",
       "      <td>1</td>\n",
       "      <td>0</td>\n",
       "      <td>1</td>\n",
       "    </tr>\n",
       "  </tbody>\n",
       "</table>\n",
       "<p>891 rows × 7 columns</p>\n",
       "</div>"
      ],
      "text/plain": [
       "     SibSp  Parch  Pclass_1  Pclass_2  Pclass_3  Sex_female  Sex_male\n",
       "0        1      0         0         0         1           0         1\n",
       "1        1      0         1         0         0           1         0\n",
       "2        0      0         0         0         1           1         0\n",
       "3        1      0         1         0         0           1         0\n",
       "4        0      0         0         0         1           0         1\n",
       "..     ...    ...       ...       ...       ...         ...       ...\n",
       "886      0      0         0         1         0           0         1\n",
       "887      0      0         1         0         0           1         0\n",
       "888      1      2         0         0         1           1         0\n",
       "889      0      0         1         0         0           0         1\n",
       "890      0      0         0         0         1           0         1\n",
       "\n",
       "[891 rows x 7 columns]"
      ]
     },
     "execution_count": 11,
     "metadata": {},
     "output_type": "execute_result"
    }
   ],
   "source": [
    "X = pd.get_dummies(X, columns=['Pclass', 'Sex'])\n",
    "X"
   ]
  },
  {
   "cell_type": "code",
   "execution_count": 12,
   "id": "4da0f8a8",
   "metadata": {
    "execution": {
     "iopub.execute_input": "2022-05-30T11:17:07.113451Z",
     "iopub.status.busy": "2022-05-30T11:17:07.112575Z",
     "iopub.status.idle": "2022-05-30T11:17:07.137395Z",
     "shell.execute_reply": "2022-05-30T11:17:07.136641Z"
    },
    "papermill": {
     "duration": 0.058705,
     "end_time": "2022-05-30T11:17:07.139396",
     "exception": false,
     "start_time": "2022-05-30T11:17:07.080691",
     "status": "completed"
    },
    "tags": []
   },
   "outputs": [
    {
     "name": "stderr",
     "output_type": "stream",
     "text": [
      "/opt/conda/lib/python3.7/site-packages/sklearn/neighbors/_classification.py:198: DataConversionWarning: A column-vector y was passed when a 1d array was expected. Please change the shape of y to (n_samples,), for example using ravel().\n",
      "  return self._fit(X, y)\n"
     ]
    },
    {
     "data": {
      "text/plain": [
       "0.7713004484304933"
      ]
     },
     "execution_count": 12,
     "metadata": {},
     "output_type": "execute_result"
    }
   ],
   "source": [
    "X_train,X_test,y_train,y_test = train_test_split(X, y, random_state=0)\n",
    "knn = KNeighborsClassifier(n_neighbors=3)\n",
    "knn.fit(X_train, y_train)\n",
    "knn.score(X_test,y_test)"
   ]
  },
  {
   "cell_type": "code",
   "execution_count": 13,
   "id": "34ab154d",
   "metadata": {
    "execution": {
     "iopub.execute_input": "2022-05-30T11:17:07.206353Z",
     "iopub.status.busy": "2022-05-30T11:17:07.205821Z",
     "iopub.status.idle": "2022-05-30T11:17:07.211651Z",
     "shell.execute_reply": "2022-05-30T11:17:07.211000Z"
    },
    "papermill": {
     "duration": 0.041003,
     "end_time": "2022-05-30T11:17:07.213472",
     "exception": false,
     "start_time": "2022-05-30T11:17:07.172469",
     "status": "completed"
    },
    "tags": []
   },
   "outputs": [],
   "source": [
    "X = train[['Pclass', 'SibSp', 'Parch', 'Sex', 'Fare']]\n",
    "y = train[['Survived']]"
   ]
  },
  {
   "cell_type": "code",
   "execution_count": 14,
   "id": "76ffa3fe",
   "metadata": {
    "execution": {
     "iopub.execute_input": "2022-05-30T11:17:07.278044Z",
     "iopub.status.busy": "2022-05-30T11:17:07.277469Z",
     "iopub.status.idle": "2022-05-30T11:17:07.294772Z",
     "shell.execute_reply": "2022-05-30T11:17:07.293891Z"
    },
    "papermill": {
     "duration": 0.051849,
     "end_time": "2022-05-30T11:17:07.296762",
     "exception": false,
     "start_time": "2022-05-30T11:17:07.244913",
     "status": "completed"
    },
    "tags": []
   },
   "outputs": [
    {
     "data": {
      "text/html": [
       "<div>\n",
       "<style scoped>\n",
       "    .dataframe tbody tr th:only-of-type {\n",
       "        vertical-align: middle;\n",
       "    }\n",
       "\n",
       "    .dataframe tbody tr th {\n",
       "        vertical-align: top;\n",
       "    }\n",
       "\n",
       "    .dataframe thead th {\n",
       "        text-align: right;\n",
       "    }\n",
       "</style>\n",
       "<table border=\"1\" class=\"dataframe\">\n",
       "  <thead>\n",
       "    <tr style=\"text-align: right;\">\n",
       "      <th></th>\n",
       "      <th>SibSp</th>\n",
       "      <th>Parch</th>\n",
       "      <th>Fare</th>\n",
       "      <th>Pclass_1</th>\n",
       "      <th>Pclass_2</th>\n",
       "      <th>Pclass_3</th>\n",
       "      <th>Sex_female</th>\n",
       "      <th>Sex_male</th>\n",
       "    </tr>\n",
       "  </thead>\n",
       "  <tbody>\n",
       "    <tr>\n",
       "      <th>0</th>\n",
       "      <td>1</td>\n",
       "      <td>0</td>\n",
       "      <td>7.2500</td>\n",
       "      <td>0</td>\n",
       "      <td>0</td>\n",
       "      <td>1</td>\n",
       "      <td>0</td>\n",
       "      <td>1</td>\n",
       "    </tr>\n",
       "    <tr>\n",
       "      <th>1</th>\n",
       "      <td>1</td>\n",
       "      <td>0</td>\n",
       "      <td>71.2833</td>\n",
       "      <td>1</td>\n",
       "      <td>0</td>\n",
       "      <td>0</td>\n",
       "      <td>1</td>\n",
       "      <td>0</td>\n",
       "    </tr>\n",
       "    <tr>\n",
       "      <th>2</th>\n",
       "      <td>0</td>\n",
       "      <td>0</td>\n",
       "      <td>7.9250</td>\n",
       "      <td>0</td>\n",
       "      <td>0</td>\n",
       "      <td>1</td>\n",
       "      <td>1</td>\n",
       "      <td>0</td>\n",
       "    </tr>\n",
       "    <tr>\n",
       "      <th>3</th>\n",
       "      <td>1</td>\n",
       "      <td>0</td>\n",
       "      <td>53.1000</td>\n",
       "      <td>1</td>\n",
       "      <td>0</td>\n",
       "      <td>0</td>\n",
       "      <td>1</td>\n",
       "      <td>0</td>\n",
       "    </tr>\n",
       "    <tr>\n",
       "      <th>4</th>\n",
       "      <td>0</td>\n",
       "      <td>0</td>\n",
       "      <td>8.0500</td>\n",
       "      <td>0</td>\n",
       "      <td>0</td>\n",
       "      <td>1</td>\n",
       "      <td>0</td>\n",
       "      <td>1</td>\n",
       "    </tr>\n",
       "    <tr>\n",
       "      <th>...</th>\n",
       "      <td>...</td>\n",
       "      <td>...</td>\n",
       "      <td>...</td>\n",
       "      <td>...</td>\n",
       "      <td>...</td>\n",
       "      <td>...</td>\n",
       "      <td>...</td>\n",
       "      <td>...</td>\n",
       "    </tr>\n",
       "    <tr>\n",
       "      <th>886</th>\n",
       "      <td>0</td>\n",
       "      <td>0</td>\n",
       "      <td>13.0000</td>\n",
       "      <td>0</td>\n",
       "      <td>1</td>\n",
       "      <td>0</td>\n",
       "      <td>0</td>\n",
       "      <td>1</td>\n",
       "    </tr>\n",
       "    <tr>\n",
       "      <th>887</th>\n",
       "      <td>0</td>\n",
       "      <td>0</td>\n",
       "      <td>30.0000</td>\n",
       "      <td>1</td>\n",
       "      <td>0</td>\n",
       "      <td>0</td>\n",
       "      <td>1</td>\n",
       "      <td>0</td>\n",
       "    </tr>\n",
       "    <tr>\n",
       "      <th>888</th>\n",
       "      <td>1</td>\n",
       "      <td>2</td>\n",
       "      <td>23.4500</td>\n",
       "      <td>0</td>\n",
       "      <td>0</td>\n",
       "      <td>1</td>\n",
       "      <td>1</td>\n",
       "      <td>0</td>\n",
       "    </tr>\n",
       "    <tr>\n",
       "      <th>889</th>\n",
       "      <td>0</td>\n",
       "      <td>0</td>\n",
       "      <td>30.0000</td>\n",
       "      <td>1</td>\n",
       "      <td>0</td>\n",
       "      <td>0</td>\n",
       "      <td>0</td>\n",
       "      <td>1</td>\n",
       "    </tr>\n",
       "    <tr>\n",
       "      <th>890</th>\n",
       "      <td>0</td>\n",
       "      <td>0</td>\n",
       "      <td>7.7500</td>\n",
       "      <td>0</td>\n",
       "      <td>0</td>\n",
       "      <td>1</td>\n",
       "      <td>0</td>\n",
       "      <td>1</td>\n",
       "    </tr>\n",
       "  </tbody>\n",
       "</table>\n",
       "<p>891 rows × 8 columns</p>\n",
       "</div>"
      ],
      "text/plain": [
       "     SibSp  Parch     Fare  Pclass_1  Pclass_2  Pclass_3  Sex_female  Sex_male\n",
       "0        1      0   7.2500         0         0         1           0         1\n",
       "1        1      0  71.2833         1         0         0           1         0\n",
       "2        0      0   7.9250         0         0         1           1         0\n",
       "3        1      0  53.1000         1         0         0           1         0\n",
       "4        0      0   8.0500         0         0         1           0         1\n",
       "..     ...    ...      ...       ...       ...       ...         ...       ...\n",
       "886      0      0  13.0000         0         1         0           0         1\n",
       "887      0      0  30.0000         1         0         0           1         0\n",
       "888      1      2  23.4500         0         0         1           1         0\n",
       "889      0      0  30.0000         1         0         0           0         1\n",
       "890      0      0   7.7500         0         0         1           0         1\n",
       "\n",
       "[891 rows x 8 columns]"
      ]
     },
     "execution_count": 14,
     "metadata": {},
     "output_type": "execute_result"
    }
   ],
   "source": [
    "X = pd.get_dummies(X, columns=['Pclass', 'Sex'])\n",
    "X"
   ]
  },
  {
   "cell_type": "code",
   "execution_count": 15,
   "id": "e4fcdfaf",
   "metadata": {
    "execution": {
     "iopub.execute_input": "2022-05-30T11:17:07.362739Z",
     "iopub.status.busy": "2022-05-30T11:17:07.362216Z",
     "iopub.status.idle": "2022-05-30T11:17:07.383503Z",
     "shell.execute_reply": "2022-05-30T11:17:07.382600Z"
    },
    "papermill": {
     "duration": 0.056599,
     "end_time": "2022-05-30T11:17:07.385444",
     "exception": false,
     "start_time": "2022-05-30T11:17:07.328845",
     "status": "completed"
    },
    "tags": []
   },
   "outputs": [
    {
     "name": "stderr",
     "output_type": "stream",
     "text": [
      "/opt/conda/lib/python3.7/site-packages/sklearn/neighbors/_classification.py:198: DataConversionWarning: A column-vector y was passed when a 1d array was expected. Please change the shape of y to (n_samples,), for example using ravel().\n",
      "  return self._fit(X, y)\n"
     ]
    },
    {
     "data": {
      "text/plain": [
       "0.8026905829596412"
      ]
     },
     "execution_count": 15,
     "metadata": {},
     "output_type": "execute_result"
    }
   ],
   "source": [
    "X_train,X_test,y_train,y_test = train_test_split(X, y, random_state=0)\n",
    "knn = KNeighborsClassifier(n_neighbors=3)\n",
    "knn.fit(X_train, y_train)\n",
    "knn.score(X_test,y_test)"
   ]
  },
  {
   "cell_type": "code",
   "execution_count": 16,
   "id": "2ef58f42",
   "metadata": {
    "execution": {
     "iopub.execute_input": "2022-05-30T11:17:07.452890Z",
     "iopub.status.busy": "2022-05-30T11:17:07.452318Z",
     "iopub.status.idle": "2022-05-30T11:17:07.474718Z",
     "shell.execute_reply": "2022-05-30T11:17:07.473621Z"
    },
    "papermill": {
     "duration": 0.058844,
     "end_time": "2022-05-30T11:17:07.477153",
     "exception": false,
     "start_time": "2022-05-30T11:17:07.418309",
     "status": "completed"
    },
    "tags": []
   },
   "outputs": [
    {
     "name": "stderr",
     "output_type": "stream",
     "text": [
      "/opt/conda/lib/python3.7/site-packages/sklearn/neighbors/_classification.py:198: DataConversionWarning: A column-vector y was passed when a 1d array was expected. Please change the shape of y to (n_samples,), for example using ravel().\n",
      "  return self._fit(X, y)\n"
     ]
    },
    {
     "data": {
      "text/plain": [
       "0.8385650224215246"
      ]
     },
     "execution_count": 16,
     "metadata": {},
     "output_type": "execute_result"
    }
   ],
   "source": [
    "from sklearn.preprocessing import StandardScaler\n",
    "\n",
    "scaler = StandardScaler()\n",
    "scaler.fit(X_train)\n",
    "X_train_sclaed = scaler.transform(X_train)\n",
    "X_test_sclaed = scaler.transform(X_test)\n",
    "\n",
    "knn = KNeighborsClassifier(n_neighbors=3)\n",
    "knn.fit(X_train_sclaed, y_train)\n",
    "knn.score(X_test_sclaed,y_test)"
   ]
  },
  {
   "cell_type": "code",
   "execution_count": 17,
   "id": "37e2954b",
   "metadata": {
    "execution": {
     "iopub.execute_input": "2022-05-30T11:17:07.545504Z",
     "iopub.status.busy": "2022-05-30T11:17:07.544578Z",
     "iopub.status.idle": "2022-05-30T11:17:07.553319Z",
     "shell.execute_reply": "2022-05-30T11:17:07.552438Z"
    },
    "papermill": {
     "duration": 0.044589,
     "end_time": "2022-05-30T11:17:07.555204",
     "exception": false,
     "start_time": "2022-05-30T11:17:07.510615",
     "status": "completed"
    },
    "tags": []
   },
   "outputs": [
    {
     "data": {
      "text/plain": [
       "PassengerId      0\n",
       "Pclass           0\n",
       "Name             0\n",
       "Sex              0\n",
       "Age             86\n",
       "SibSp            0\n",
       "Parch            0\n",
       "Ticket           0\n",
       "Fare             1\n",
       "Cabin          327\n",
       "Embarked         0\n",
       "dtype: int64"
      ]
     },
     "execution_count": 17,
     "metadata": {},
     "output_type": "execute_result"
    }
   ],
   "source": [
    "test.isnull().sum()"
   ]
  },
  {
   "cell_type": "markdown",
   "id": "ceba889a",
   "metadata": {
    "papermill": {
     "duration": 0.033121,
     "end_time": "2022-05-30T11:17:07.621873",
     "exception": false,
     "start_time": "2022-05-30T11:17:07.588752",
     "status": "completed"
    },
    "tags": []
   },
   "source": [
    "ここからした"
   ]
  },
  {
   "cell_type": "code",
   "execution_count": 18,
   "id": "e53b03e7",
   "metadata": {
    "execution": {
     "iopub.execute_input": "2022-05-30T11:17:07.691225Z",
     "iopub.status.busy": "2022-05-30T11:17:07.690971Z",
     "iopub.status.idle": "2022-05-30T11:17:07.694861Z",
     "shell.execute_reply": "2022-05-30T11:17:07.693965Z"
    },
    "papermill": {
     "duration": 0.041517,
     "end_time": "2022-05-30T11:17:07.696778",
     "exception": false,
     "start_time": "2022-05-30T11:17:07.655261",
     "status": "completed"
    },
    "tags": []
   },
   "outputs": [],
   "source": [
    "from sklearn.model_selection import train_test_split\n",
    "from sklearn.neighbors import KNeighborsClassifier\n",
    "from sklearn.preprocessing import StandardScaler"
   ]
  },
  {
   "cell_type": "code",
   "execution_count": 19,
   "id": "f2e7fa34",
   "metadata": {
    "execution": {
     "iopub.execute_input": "2022-05-30T11:17:07.768291Z",
     "iopub.status.busy": "2022-05-30T11:17:07.767325Z",
     "iopub.status.idle": "2022-05-30T11:17:07.796708Z",
     "shell.execute_reply": "2022-05-30T11:17:07.795404Z"
    },
    "papermill": {
     "duration": 0.066915,
     "end_time": "2022-05-30T11:17:07.798635",
     "exception": false,
     "start_time": "2022-05-30T11:17:07.731720",
     "status": "completed"
    },
    "tags": []
   },
   "outputs": [
    {
     "name": "stdout",
     "output_type": "stream",
     "text": [
      "PassengerId      int64\n",
      "Survived         int64\n",
      "Pclass           int64\n",
      "Name            object\n",
      "Sex             object\n",
      "Age            float64\n",
      "SibSp            int64\n",
      "Parch            int64\n",
      "Ticket          object\n",
      "Fare           float64\n",
      "Cabin           object\n",
      "Embarked        object\n",
      "dtype: object\n",
      "PassengerId      0\n",
      "Pclass           0\n",
      "Name             0\n",
      "Sex              0\n",
      "Age             86\n",
      "SibSp            0\n",
      "Parch            0\n",
      "Ticket           0\n",
      "Fare             1\n",
      "Cabin          327\n",
      "Embarked         0\n",
      "dtype: int64\n"
     ]
    },
    {
     "data": {
      "text/html": [
       "<div>\n",
       "<style scoped>\n",
       "    .dataframe tbody tr th:only-of-type {\n",
       "        vertical-align: middle;\n",
       "    }\n",
       "\n",
       "    .dataframe tbody tr th {\n",
       "        vertical-align: top;\n",
       "    }\n",
       "\n",
       "    .dataframe thead th {\n",
       "        text-align: right;\n",
       "    }\n",
       "</style>\n",
       "<table border=\"1\" class=\"dataframe\">\n",
       "  <thead>\n",
       "    <tr style=\"text-align: right;\">\n",
       "      <th></th>\n",
       "      <th>PassengerId</th>\n",
       "      <th>Survived</th>\n",
       "      <th>Pclass</th>\n",
       "      <th>Name</th>\n",
       "      <th>Sex</th>\n",
       "      <th>Age</th>\n",
       "      <th>SibSp</th>\n",
       "      <th>Parch</th>\n",
       "      <th>Ticket</th>\n",
       "      <th>Fare</th>\n",
       "      <th>Cabin</th>\n",
       "      <th>Embarked</th>\n",
       "    </tr>\n",
       "  </thead>\n",
       "  <tbody>\n",
       "    <tr>\n",
       "      <th>0</th>\n",
       "      <td>1</td>\n",
       "      <td>0</td>\n",
       "      <td>3</td>\n",
       "      <td>Braund, Mr. Owen Harris</td>\n",
       "      <td>male</td>\n",
       "      <td>22.0</td>\n",
       "      <td>1</td>\n",
       "      <td>0</td>\n",
       "      <td>A/5 21171</td>\n",
       "      <td>7.2500</td>\n",
       "      <td>NaN</td>\n",
       "      <td>S</td>\n",
       "    </tr>\n",
       "    <tr>\n",
       "      <th>1</th>\n",
       "      <td>2</td>\n",
       "      <td>1</td>\n",
       "      <td>1</td>\n",
       "      <td>Cumings, Mrs. John Bradley (Florence Briggs Th...</td>\n",
       "      <td>female</td>\n",
       "      <td>38.0</td>\n",
       "      <td>1</td>\n",
       "      <td>0</td>\n",
       "      <td>PC 17599</td>\n",
       "      <td>71.2833</td>\n",
       "      <td>C85</td>\n",
       "      <td>C</td>\n",
       "    </tr>\n",
       "    <tr>\n",
       "      <th>2</th>\n",
       "      <td>3</td>\n",
       "      <td>1</td>\n",
       "      <td>3</td>\n",
       "      <td>Heikkinen, Miss. Laina</td>\n",
       "      <td>female</td>\n",
       "      <td>26.0</td>\n",
       "      <td>0</td>\n",
       "      <td>0</td>\n",
       "      <td>STON/O2. 3101282</td>\n",
       "      <td>7.9250</td>\n",
       "      <td>NaN</td>\n",
       "      <td>S</td>\n",
       "    </tr>\n",
       "    <tr>\n",
       "      <th>3</th>\n",
       "      <td>4</td>\n",
       "      <td>1</td>\n",
       "      <td>1</td>\n",
       "      <td>Futrelle, Mrs. Jacques Heath (Lily May Peel)</td>\n",
       "      <td>female</td>\n",
       "      <td>35.0</td>\n",
       "      <td>1</td>\n",
       "      <td>0</td>\n",
       "      <td>113803</td>\n",
       "      <td>53.1000</td>\n",
       "      <td>C123</td>\n",
       "      <td>S</td>\n",
       "    </tr>\n",
       "    <tr>\n",
       "      <th>4</th>\n",
       "      <td>5</td>\n",
       "      <td>0</td>\n",
       "      <td>3</td>\n",
       "      <td>Allen, Mr. William Henry</td>\n",
       "      <td>male</td>\n",
       "      <td>35.0</td>\n",
       "      <td>0</td>\n",
       "      <td>0</td>\n",
       "      <td>373450</td>\n",
       "      <td>8.0500</td>\n",
       "      <td>NaN</td>\n",
       "      <td>S</td>\n",
       "    </tr>\n",
       "  </tbody>\n",
       "</table>\n",
       "</div>"
      ],
      "text/plain": [
       "   PassengerId  Survived  Pclass  \\\n",
       "0            1         0       3   \n",
       "1            2         1       1   \n",
       "2            3         1       3   \n",
       "3            4         1       1   \n",
       "4            5         0       3   \n",
       "\n",
       "                                                Name     Sex   Age  SibSp  \\\n",
       "0                            Braund, Mr. Owen Harris    male  22.0      1   \n",
       "1  Cumings, Mrs. John Bradley (Florence Briggs Th...  female  38.0      1   \n",
       "2                             Heikkinen, Miss. Laina  female  26.0      0   \n",
       "3       Futrelle, Mrs. Jacques Heath (Lily May Peel)  female  35.0      1   \n",
       "4                           Allen, Mr. William Henry    male  35.0      0   \n",
       "\n",
       "   Parch            Ticket     Fare Cabin Embarked  \n",
       "0      0         A/5 21171   7.2500   NaN        S  \n",
       "1      0          PC 17599  71.2833   C85        C  \n",
       "2      0  STON/O2. 3101282   7.9250   NaN        S  \n",
       "3      0            113803  53.1000  C123        S  \n",
       "4      0            373450   8.0500   NaN        S  "
      ]
     },
     "execution_count": 19,
     "metadata": {},
     "output_type": "execute_result"
    }
   ],
   "source": [
    "train = pd.read_csv(\"../input/titanic/train.csv\")\n",
    "test = pd.read_csv(\"../input/titanic/test.csv\")\n",
    "\n",
    "#型確認\n",
    "print(train.dtypes)\n",
    "\n",
    "#nullがないか確認\n",
    "print(test.isnull().sum())\n",
    "\n",
    "#データ確認\n",
    "train.head()"
   ]
  },
  {
   "cell_type": "code",
   "execution_count": 20,
   "id": "73706484",
   "metadata": {
    "execution": {
     "iopub.execute_input": "2022-05-30T11:17:07.869201Z",
     "iopub.status.busy": "2022-05-30T11:17:07.868482Z",
     "iopub.status.idle": "2022-05-30T11:17:07.873824Z",
     "shell.execute_reply": "2022-05-30T11:17:07.873045Z"
    },
    "papermill": {
     "duration": 0.042783,
     "end_time": "2022-05-30T11:17:07.875668",
     "exception": false,
     "start_time": "2022-05-30T11:17:07.832885",
     "status": "completed"
    },
    "tags": []
   },
   "outputs": [],
   "source": [
    "X = train[['Pclass','SibSp','Parch', 'Sex', 'Fare']]\n",
    "y = train[['Survived']]\n",
    "#'Pclass','SibSp','Parch', 'Sex', 'Fare', 'Age'"
   ]
  },
  {
   "cell_type": "code",
   "execution_count": 21,
   "id": "22261233",
   "metadata": {
    "execution": {
     "iopub.execute_input": "2022-05-30T11:17:07.947258Z",
     "iopub.status.busy": "2022-05-30T11:17:07.946768Z",
     "iopub.status.idle": "2022-05-30T11:17:07.951842Z",
     "shell.execute_reply": "2022-05-30T11:17:07.951029Z"
    },
    "papermill": {
     "duration": 0.043492,
     "end_time": "2022-05-30T11:17:07.953758",
     "exception": false,
     "start_time": "2022-05-30T11:17:07.910266",
     "status": "completed"
    },
    "tags": []
   },
   "outputs": [],
   "source": [
    "X_train,X_test,y_train,y_test = train_test_split(X, y, random_state=0)"
   ]
  },
  {
   "cell_type": "code",
   "execution_count": 22,
   "id": "583431dc",
   "metadata": {
    "execution": {
     "iopub.execute_input": "2022-05-30T11:17:08.024209Z",
     "iopub.status.busy": "2022-05-30T11:17:08.023384Z",
     "iopub.status.idle": "2022-05-30T11:17:08.040385Z",
     "shell.execute_reply": "2022-05-30T11:17:08.039617Z"
    },
    "papermill": {
     "duration": 0.054229,
     "end_time": "2022-05-30T11:17:08.042521",
     "exception": false,
     "start_time": "2022-05-30T11:17:07.988292",
     "status": "completed"
    },
    "tags": []
   },
   "outputs": [
    {
     "data": {
      "text/html": [
       "<div>\n",
       "<style scoped>\n",
       "    .dataframe tbody tr th:only-of-type {\n",
       "        vertical-align: middle;\n",
       "    }\n",
       "\n",
       "    .dataframe tbody tr th {\n",
       "        vertical-align: top;\n",
       "    }\n",
       "\n",
       "    .dataframe thead th {\n",
       "        text-align: right;\n",
       "    }\n",
       "</style>\n",
       "<table border=\"1\" class=\"dataframe\">\n",
       "  <thead>\n",
       "    <tr style=\"text-align: right;\">\n",
       "      <th></th>\n",
       "      <th>SibSp</th>\n",
       "      <th>Parch</th>\n",
       "      <th>Fare</th>\n",
       "      <th>Pclass_1</th>\n",
       "      <th>Pclass_2</th>\n",
       "      <th>Pclass_3</th>\n",
       "      <th>Sex_female</th>\n",
       "      <th>Sex_male</th>\n",
       "    </tr>\n",
       "  </thead>\n",
       "  <tbody>\n",
       "    <tr>\n",
       "      <th>0</th>\n",
       "      <td>1</td>\n",
       "      <td>0</td>\n",
       "      <td>7.2500</td>\n",
       "      <td>0</td>\n",
       "      <td>0</td>\n",
       "      <td>1</td>\n",
       "      <td>0</td>\n",
       "      <td>1</td>\n",
       "    </tr>\n",
       "    <tr>\n",
       "      <th>1</th>\n",
       "      <td>1</td>\n",
       "      <td>0</td>\n",
       "      <td>71.2833</td>\n",
       "      <td>1</td>\n",
       "      <td>0</td>\n",
       "      <td>0</td>\n",
       "      <td>1</td>\n",
       "      <td>0</td>\n",
       "    </tr>\n",
       "    <tr>\n",
       "      <th>2</th>\n",
       "      <td>0</td>\n",
       "      <td>0</td>\n",
       "      <td>7.9250</td>\n",
       "      <td>0</td>\n",
       "      <td>0</td>\n",
       "      <td>1</td>\n",
       "      <td>1</td>\n",
       "      <td>0</td>\n",
       "    </tr>\n",
       "    <tr>\n",
       "      <th>3</th>\n",
       "      <td>1</td>\n",
       "      <td>0</td>\n",
       "      <td>53.1000</td>\n",
       "      <td>1</td>\n",
       "      <td>0</td>\n",
       "      <td>0</td>\n",
       "      <td>1</td>\n",
       "      <td>0</td>\n",
       "    </tr>\n",
       "    <tr>\n",
       "      <th>4</th>\n",
       "      <td>0</td>\n",
       "      <td>0</td>\n",
       "      <td>8.0500</td>\n",
       "      <td>0</td>\n",
       "      <td>0</td>\n",
       "      <td>1</td>\n",
       "      <td>0</td>\n",
       "      <td>1</td>\n",
       "    </tr>\n",
       "    <tr>\n",
       "      <th>...</th>\n",
       "      <td>...</td>\n",
       "      <td>...</td>\n",
       "      <td>...</td>\n",
       "      <td>...</td>\n",
       "      <td>...</td>\n",
       "      <td>...</td>\n",
       "      <td>...</td>\n",
       "      <td>...</td>\n",
       "    </tr>\n",
       "    <tr>\n",
       "      <th>886</th>\n",
       "      <td>0</td>\n",
       "      <td>0</td>\n",
       "      <td>13.0000</td>\n",
       "      <td>0</td>\n",
       "      <td>1</td>\n",
       "      <td>0</td>\n",
       "      <td>0</td>\n",
       "      <td>1</td>\n",
       "    </tr>\n",
       "    <tr>\n",
       "      <th>887</th>\n",
       "      <td>0</td>\n",
       "      <td>0</td>\n",
       "      <td>30.0000</td>\n",
       "      <td>1</td>\n",
       "      <td>0</td>\n",
       "      <td>0</td>\n",
       "      <td>1</td>\n",
       "      <td>0</td>\n",
       "    </tr>\n",
       "    <tr>\n",
       "      <th>888</th>\n",
       "      <td>1</td>\n",
       "      <td>2</td>\n",
       "      <td>23.4500</td>\n",
       "      <td>0</td>\n",
       "      <td>0</td>\n",
       "      <td>1</td>\n",
       "      <td>1</td>\n",
       "      <td>0</td>\n",
       "    </tr>\n",
       "    <tr>\n",
       "      <th>889</th>\n",
       "      <td>0</td>\n",
       "      <td>0</td>\n",
       "      <td>30.0000</td>\n",
       "      <td>1</td>\n",
       "      <td>0</td>\n",
       "      <td>0</td>\n",
       "      <td>0</td>\n",
       "      <td>1</td>\n",
       "    </tr>\n",
       "    <tr>\n",
       "      <th>890</th>\n",
       "      <td>0</td>\n",
       "      <td>0</td>\n",
       "      <td>7.7500</td>\n",
       "      <td>0</td>\n",
       "      <td>0</td>\n",
       "      <td>1</td>\n",
       "      <td>0</td>\n",
       "      <td>1</td>\n",
       "    </tr>\n",
       "  </tbody>\n",
       "</table>\n",
       "<p>891 rows × 8 columns</p>\n",
       "</div>"
      ],
      "text/plain": [
       "     SibSp  Parch     Fare  Pclass_1  Pclass_2  Pclass_3  Sex_female  Sex_male\n",
       "0        1      0   7.2500         0         0         1           0         1\n",
       "1        1      0  71.2833         1         0         0           1         0\n",
       "2        0      0   7.9250         0         0         1           1         0\n",
       "3        1      0  53.1000         1         0         0           1         0\n",
       "4        0      0   8.0500         0         0         1           0         1\n",
       "..     ...    ...      ...       ...       ...       ...         ...       ...\n",
       "886      0      0  13.0000         0         1         0           0         1\n",
       "887      0      0  30.0000         1         0         0           1         0\n",
       "888      1      2  23.4500         0         0         1           1         0\n",
       "889      0      0  30.0000         1         0         0           0         1\n",
       "890      0      0   7.7500         0         0         1           0         1\n",
       "\n",
       "[891 rows x 8 columns]"
      ]
     },
     "execution_count": 22,
     "metadata": {},
     "output_type": "execute_result"
    }
   ],
   "source": [
    "#数値化\n",
    "X = pd.get_dummies(X, columns=['Pclass','Sex'])\n",
    "X"
   ]
  },
  {
   "cell_type": "code",
   "execution_count": 23,
   "id": "85700b26",
   "metadata": {
    "execution": {
     "iopub.execute_input": "2022-05-30T11:17:08.113493Z",
     "iopub.status.busy": "2022-05-30T11:17:08.113104Z",
     "iopub.status.idle": "2022-05-30T11:17:08.118782Z",
     "shell.execute_reply": "2022-05-30T11:17:08.118114Z"
    },
    "papermill": {
     "duration": 0.043254,
     "end_time": "2022-05-30T11:17:08.120619",
     "exception": false,
     "start_time": "2022-05-30T11:17:08.077365",
     "status": "completed"
    },
    "tags": []
   },
   "outputs": [],
   "source": [
    "#数値化を反映したデータに更新\n",
    "X_train,X_test,y_train,y_test = train_test_split(X, y, random_state=0)"
   ]
  },
  {
   "cell_type": "code",
   "execution_count": 24,
   "id": "31c11483",
   "metadata": {
    "execution": {
     "iopub.execute_input": "2022-05-30T11:17:08.194836Z",
     "iopub.status.busy": "2022-05-30T11:17:08.194166Z",
     "iopub.status.idle": "2022-05-30T11:17:08.204523Z",
     "shell.execute_reply": "2022-05-30T11:17:08.203566Z"
    },
    "papermill": {
     "duration": 0.049467,
     "end_time": "2022-05-30T11:17:08.206390",
     "exception": false,
     "start_time": "2022-05-30T11:17:08.156923",
     "status": "completed"
    },
    "tags": []
   },
   "outputs": [],
   "source": [
    "#正規化\n",
    "from sklearn.preprocessing import StandardScaler\n",
    "scaler = StandardScaler()\n",
    "#fitパラメータ計算\n",
    "scaler.fit(X_train)\n",
    "#transformパラメータを用いて正規化\n",
    "X_train_sclaed = scaler.transform(X_train)\n",
    "X_test_sclaed = scaler.transform(X_test)"
   ]
  },
  {
   "cell_type": "code",
   "execution_count": 25,
   "id": "b27c0f57",
   "metadata": {
    "execution": {
     "iopub.execute_input": "2022-05-30T11:17:08.277046Z",
     "iopub.status.busy": "2022-05-30T11:17:08.276632Z",
     "iopub.status.idle": "2022-05-30T11:17:08.398242Z",
     "shell.execute_reply": "2022-05-30T11:17:08.396719Z"
    },
    "papermill": {
     "duration": 0.160037,
     "end_time": "2022-05-30T11:17:08.400918",
     "exception": false,
     "start_time": "2022-05-30T11:17:08.240881",
     "status": "completed"
    },
    "tags": []
   },
   "outputs": [
    {
     "name": "stdout",
     "output_type": "stream",
     "text": [
      "0.8026905829596412\n",
      "1\n",
      "0.8475336322869955\n",
      "2\n"
     ]
    },
    {
     "name": "stderr",
     "output_type": "stream",
     "text": [
      "/opt/conda/lib/python3.7/site-packages/sklearn/neighbors/_classification.py:198: DataConversionWarning: A column-vector y was passed when a 1d array was expected. Please change the shape of y to (n_samples,), for example using ravel().\n",
      "  return self._fit(X, y)\n",
      "/opt/conda/lib/python3.7/site-packages/sklearn/neighbors/_classification.py:198: DataConversionWarning: A column-vector y was passed when a 1d array was expected. Please change the shape of y to (n_samples,), for example using ravel().\n",
      "  return self._fit(X, y)\n",
      "/opt/conda/lib/python3.7/site-packages/sklearn/neighbors/_classification.py:198: DataConversionWarning: A column-vector y was passed when a 1d array was expected. Please change the shape of y to (n_samples,), for example using ravel().\n",
      "  return self._fit(X, y)\n",
      "/opt/conda/lib/python3.7/site-packages/sklearn/neighbors/_classification.py:198: DataConversionWarning: A column-vector y was passed when a 1d array was expected. Please change the shape of y to (n_samples,), for example using ravel().\n",
      "  return self._fit(X, y)\n",
      "/opt/conda/lib/python3.7/site-packages/sklearn/neighbors/_classification.py:198: DataConversionWarning: A column-vector y was passed when a 1d array was expected. Please change the shape of y to (n_samples,), for example using ravel().\n",
      "  return self._fit(X, y)\n",
      "/opt/conda/lib/python3.7/site-packages/sklearn/neighbors/_classification.py:198: DataConversionWarning: A column-vector y was passed when a 1d array was expected. Please change the shape of y to (n_samples,), for example using ravel().\n",
      "  return self._fit(X, y)\n",
      "/opt/conda/lib/python3.7/site-packages/sklearn/neighbors/_classification.py:198: DataConversionWarning: A column-vector y was passed when a 1d array was expected. Please change the shape of y to (n_samples,), for example using ravel().\n",
      "  return self._fit(X, y)\n",
      "/opt/conda/lib/python3.7/site-packages/sklearn/neighbors/_classification.py:198: DataConversionWarning: A column-vector y was passed when a 1d array was expected. Please change the shape of y to (n_samples,), for example using ravel().\n",
      "  return self._fit(X, y)\n",
      "/opt/conda/lib/python3.7/site-packages/sklearn/neighbors/_classification.py:198: DataConversionWarning: A column-vector y was passed when a 1d array was expected. Please change the shape of y to (n_samples,), for example using ravel().\n",
      "  return self._fit(X, y)\n",
      "/opt/conda/lib/python3.7/site-packages/sklearn/neighbors/_classification.py:198: DataConversionWarning: A column-vector y was passed when a 1d array was expected. Please change the shape of y to (n_samples,), for example using ravel().\n",
      "  return self._fit(X, y)\n"
     ]
    },
    {
     "data": {
      "text/plain": [
       "0.8475336322869955"
      ]
     },
     "execution_count": 25,
     "metadata": {},
     "output_type": "execute_result"
    }
   ],
   "source": [
    "#学習（ｋ近傍）\n",
    "from sklearn.neighbors import KNeighborsClassifier\n",
    "max_n = 0\n",
    "score = 0\n",
    "for n in range(1,10):\n",
    "    knn = KNeighborsClassifier(n_neighbors=n)\n",
    "    knn.fit(X_train_sclaed, y_train)\n",
    "    if score < knn.score(X_test_sclaed,y_test):\n",
    "        score, max_n = knn.score(X_test_sclaed,y_test), n \n",
    "        print(score)\n",
    "        print(max_n)\n",
    "\n",
    "knn = KNeighborsClassifier(n_neighbors=max_n)\n",
    "knn.fit(X_train_sclaed, y_train)\n",
    "knn.score(X_test_sclaed,y_test)"
   ]
  },
  {
   "cell_type": "code",
   "execution_count": 26,
   "id": "a5949323",
   "metadata": {
    "execution": {
     "iopub.execute_input": "2022-05-30T11:17:08.474169Z",
     "iopub.status.busy": "2022-05-30T11:17:08.473598Z",
     "iopub.status.idle": "2022-05-30T11:17:08.506491Z",
     "shell.execute_reply": "2022-05-30T11:17:08.505502Z"
    },
    "papermill": {
     "duration": 0.071788,
     "end_time": "2022-05-30T11:17:08.508638",
     "exception": false,
     "start_time": "2022-05-30T11:17:08.436850",
     "status": "completed"
    },
    "tags": []
   },
   "outputs": [
    {
     "name": "stderr",
     "output_type": "stream",
     "text": [
      "/opt/conda/lib/python3.7/site-packages/ipykernel_launcher.py:12: SettingWithCopyWarning: \n",
      "A value is trying to be set on a copy of a slice from a DataFrame.\n",
      "Try using .loc[row_indexer,col_indexer] = value instead\n",
      "\n",
      "See the caveats in the documentation: https://pandas.pydata.org/pandas-docs/stable/user_guide/indexing.html#returning-a-view-versus-a-copy\n",
      "  if sys.path[0] == '':\n"
     ]
    },
    {
     "data": {
      "text/html": [
       "<div>\n",
       "<style scoped>\n",
       "    .dataframe tbody tr th:only-of-type {\n",
       "        vertical-align: middle;\n",
       "    }\n",
       "\n",
       "    .dataframe tbody tr th {\n",
       "        vertical-align: top;\n",
       "    }\n",
       "\n",
       "    .dataframe thead th {\n",
       "        text-align: right;\n",
       "    }\n",
       "</style>\n",
       "<table border=\"1\" class=\"dataframe\">\n",
       "  <thead>\n",
       "    <tr style=\"text-align: right;\">\n",
       "      <th></th>\n",
       "      <th>PassengerId</th>\n",
       "      <th>Survived</th>\n",
       "    </tr>\n",
       "  </thead>\n",
       "  <tbody>\n",
       "    <tr>\n",
       "      <th>0</th>\n",
       "      <td>892</td>\n",
       "      <td>0</td>\n",
       "    </tr>\n",
       "    <tr>\n",
       "      <th>1</th>\n",
       "      <td>893</td>\n",
       "      <td>0</td>\n",
       "    </tr>\n",
       "    <tr>\n",
       "      <th>2</th>\n",
       "      <td>894</td>\n",
       "      <td>0</td>\n",
       "    </tr>\n",
       "    <tr>\n",
       "      <th>3</th>\n",
       "      <td>895</td>\n",
       "      <td>0</td>\n",
       "    </tr>\n",
       "    <tr>\n",
       "      <th>4</th>\n",
       "      <td>896</td>\n",
       "      <td>0</td>\n",
       "    </tr>\n",
       "    <tr>\n",
       "      <th>...</th>\n",
       "      <td>...</td>\n",
       "      <td>...</td>\n",
       "    </tr>\n",
       "    <tr>\n",
       "      <th>413</th>\n",
       "      <td>1305</td>\n",
       "      <td>0</td>\n",
       "    </tr>\n",
       "    <tr>\n",
       "      <th>414</th>\n",
       "      <td>1306</td>\n",
       "      <td>1</td>\n",
       "    </tr>\n",
       "    <tr>\n",
       "      <th>415</th>\n",
       "      <td>1307</td>\n",
       "      <td>0</td>\n",
       "    </tr>\n",
       "    <tr>\n",
       "      <th>416</th>\n",
       "      <td>1308</td>\n",
       "      <td>0</td>\n",
       "    </tr>\n",
       "    <tr>\n",
       "      <th>417</th>\n",
       "      <td>1309</td>\n",
       "      <td>0</td>\n",
       "    </tr>\n",
       "  </tbody>\n",
       "</table>\n",
       "<p>418 rows × 2 columns</p>\n",
       "</div>"
      ],
      "text/plain": [
       "     PassengerId  Survived\n",
       "0            892         0\n",
       "1            893         0\n",
       "2            894         0\n",
       "3            895         0\n",
       "4            896         0\n",
       "..           ...       ...\n",
       "413         1305         0\n",
       "414         1306         1\n",
       "415         1307         0\n",
       "416         1308         0\n",
       "417         1309         0\n",
       "\n",
       "[418 rows x 2 columns]"
      ]
     },
     "execution_count": 26,
     "metadata": {},
     "output_type": "execute_result"
    }
   ],
   "source": [
    "#テスト\n",
    "X_for_submit = test[['Pclass', 'SibSp', 'Parch', 'Sex', 'Fare']]\n",
    "submit = test[['PassengerId']]\n",
    "\n",
    "X_for_submit = pd.get_dummies(X_for_submit, columns=['Pclass', 'Sex'])\n",
    "\n",
    "#nullに平均を入れる\n",
    "X_for_submit['Fare'] = X_for_submit['Fare'].fillna(X_for_submit['Fare'].mean())\n",
    "\n",
    "X_for_submit_sclaed = scaler.transform(X_for_submit)\n",
    "\n",
    "submit['Survived'] = knn.predict(X_for_submit_sclaed)\n",
    "submit"
   ]
  },
  {
   "cell_type": "markdown",
   "id": "6a658d1b",
   "metadata": {
    "papermill": {
     "duration": 0.035775,
     "end_time": "2022-05-30T11:17:08.580515",
     "exception": false,
     "start_time": "2022-05-30T11:17:08.544740",
     "status": "completed"
    },
    "tags": []
   },
   "source": [
    "ここからした(サポートベクターマシーン)"
   ]
  },
  {
   "cell_type": "code",
   "execution_count": 27,
   "id": "da069ebc",
   "metadata": {
    "execution": {
     "iopub.execute_input": "2022-05-30T11:17:08.655121Z",
     "iopub.status.busy": "2022-05-30T11:17:08.654863Z",
     "iopub.status.idle": "2022-05-30T11:17:08.685387Z",
     "shell.execute_reply": "2022-05-30T11:17:08.684548Z"
    },
    "papermill": {
     "duration": 0.071282,
     "end_time": "2022-05-30T11:17:08.687658",
     "exception": false,
     "start_time": "2022-05-30T11:17:08.616376",
     "status": "completed"
    },
    "tags": []
   },
   "outputs": [
    {
     "name": "stdout",
     "output_type": "stream",
     "text": [
      "PassengerId      int64\n",
      "Survived         int64\n",
      "Pclass           int64\n",
      "Name            object\n",
      "Sex             object\n",
      "Age            float64\n",
      "SibSp            int64\n",
      "Parch            int64\n",
      "Ticket          object\n",
      "Fare           float64\n",
      "Cabin           object\n",
      "Embarked        object\n",
      "dtype: object\n",
      "PassengerId      0\n",
      "Pclass           0\n",
      "Name             0\n",
      "Sex              0\n",
      "Age             86\n",
      "SibSp            0\n",
      "Parch            0\n",
      "Ticket           0\n",
      "Fare             1\n",
      "Cabin          327\n",
      "Embarked         0\n",
      "dtype: int64\n"
     ]
    }
   ],
   "source": [
    "train = pd.read_csv(\"../input/titanic/train.csv\")\n",
    "test = pd.read_csv(\"../input/titanic/test.csv\")\n",
    "\n",
    "#型確認\n",
    "print(train.dtypes)\n",
    "\n",
    "#nullがないか確認\n",
    "print(test.isnull().sum())\n",
    "\n",
    "#データ確認\n",
    "train.head()\n",
    "\n",
    "X = train[['Pclass','SibSp','Parch', 'Sex', 'Fare']]\n",
    "y = train[['Survived']]\n",
    "\n",
    "X = pd.get_dummies(X, columns=['Pclass','Sex'])\n",
    "\n",
    "X_train,X_test,y_train,y_test = train_test_split(X, y, random_state=0)\n",
    "\n",
    "#正規化\n",
    "from sklearn.preprocessing import StandardScaler\n",
    "scaler = StandardScaler()\n",
    "#fitパラメータ計算\n",
    "scaler.fit(X_train)\n",
    "#transformパラメータを用いて正規化\n",
    "X_train_sclaed = scaler.transform(X_train)\n",
    "X_test_sclaed = scaler.transform(X_test)"
   ]
  },
  {
   "cell_type": "code",
   "execution_count": 28,
   "id": "f5447e5b",
   "metadata": {
    "execution": {
     "iopub.execute_input": "2022-05-30T11:17:08.763669Z",
     "iopub.status.busy": "2022-05-30T11:17:08.763111Z",
     "iopub.status.idle": "2022-05-30T11:17:08.811300Z",
     "shell.execute_reply": "2022-05-30T11:17:08.810697Z"
    },
    "papermill": {
     "duration": 0.089018,
     "end_time": "2022-05-30T11:17:08.813818",
     "exception": false,
     "start_time": "2022-05-30T11:17:08.724800",
     "status": "completed"
    },
    "tags": []
   },
   "outputs": [
    {
     "name": "stderr",
     "output_type": "stream",
     "text": [
      "/opt/conda/lib/python3.7/site-packages/sklearn/utils/validation.py:993: DataConversionWarning: A column-vector y was passed when a 1d array was expected. Please change the shape of y to (n_samples, ), for example using ravel().\n",
      "  y = column_or_1d(y, warn=True)\n",
      "/opt/conda/lib/python3.7/site-packages/sklearn/svm/_base.py:1208: ConvergenceWarning: Liblinear failed to converge, increase the number of iterations.\n",
      "  ConvergenceWarning,\n"
     ]
    },
    {
     "data": {
      "text/plain": [
       "0.7847533632286996"
      ]
     },
     "execution_count": 28,
     "metadata": {},
     "output_type": "execute_result"
    }
   ],
   "source": [
    "#学習（サポートベクターマシン）\n",
    "from sklearn.svm import LinearSVC\n",
    "\n",
    "svc = LinearSVC()\n",
    "svc.fit(X_train_sclaed, y_train)\n",
    "svc.score(X_test_sclaed,y_test)"
   ]
  },
  {
   "cell_type": "code",
   "execution_count": 29,
   "id": "76a9053b",
   "metadata": {
    "execution": {
     "iopub.execute_input": "2022-05-30T11:17:08.895694Z",
     "iopub.status.busy": "2022-05-30T11:17:08.895405Z",
     "iopub.status.idle": "2022-05-30T11:17:08.937224Z",
     "shell.execute_reply": "2022-05-30T11:17:08.936191Z"
    },
    "papermill": {
     "duration": 0.088894,
     "end_time": "2022-05-30T11:17:08.940106",
     "exception": false,
     "start_time": "2022-05-30T11:17:08.851212",
     "status": "completed"
    },
    "tags": []
   },
   "outputs": [
    {
     "name": "stderr",
     "output_type": "stream",
     "text": [
      "/opt/conda/lib/python3.7/site-packages/ipykernel_launcher.py:12: SettingWithCopyWarning: \n",
      "A value is trying to be set on a copy of a slice from a DataFrame.\n",
      "Try using .loc[row_indexer,col_indexer] = value instead\n",
      "\n",
      "See the caveats in the documentation: https://pandas.pydata.org/pandas-docs/stable/user_guide/indexing.html#returning-a-view-versus-a-copy\n",
      "  if sys.path[0] == '':\n"
     ]
    },
    {
     "data": {
      "text/html": [
       "<div>\n",
       "<style scoped>\n",
       "    .dataframe tbody tr th:only-of-type {\n",
       "        vertical-align: middle;\n",
       "    }\n",
       "\n",
       "    .dataframe tbody tr th {\n",
       "        vertical-align: top;\n",
       "    }\n",
       "\n",
       "    .dataframe thead th {\n",
       "        text-align: right;\n",
       "    }\n",
       "</style>\n",
       "<table border=\"1\" class=\"dataframe\">\n",
       "  <thead>\n",
       "    <tr style=\"text-align: right;\">\n",
       "      <th></th>\n",
       "      <th>PassengerId</th>\n",
       "      <th>Survived</th>\n",
       "    </tr>\n",
       "  </thead>\n",
       "  <tbody>\n",
       "    <tr>\n",
       "      <th>0</th>\n",
       "      <td>892</td>\n",
       "      <td>0</td>\n",
       "    </tr>\n",
       "    <tr>\n",
       "      <th>1</th>\n",
       "      <td>893</td>\n",
       "      <td>0</td>\n",
       "    </tr>\n",
       "    <tr>\n",
       "      <th>2</th>\n",
       "      <td>894</td>\n",
       "      <td>0</td>\n",
       "    </tr>\n",
       "    <tr>\n",
       "      <th>3</th>\n",
       "      <td>895</td>\n",
       "      <td>0</td>\n",
       "    </tr>\n",
       "    <tr>\n",
       "      <th>4</th>\n",
       "      <td>896</td>\n",
       "      <td>0</td>\n",
       "    </tr>\n",
       "    <tr>\n",
       "      <th>...</th>\n",
       "      <td>...</td>\n",
       "      <td>...</td>\n",
       "    </tr>\n",
       "    <tr>\n",
       "      <th>413</th>\n",
       "      <td>1305</td>\n",
       "      <td>0</td>\n",
       "    </tr>\n",
       "    <tr>\n",
       "      <th>414</th>\n",
       "      <td>1306</td>\n",
       "      <td>1</td>\n",
       "    </tr>\n",
       "    <tr>\n",
       "      <th>415</th>\n",
       "      <td>1307</td>\n",
       "      <td>0</td>\n",
       "    </tr>\n",
       "    <tr>\n",
       "      <th>416</th>\n",
       "      <td>1308</td>\n",
       "      <td>0</td>\n",
       "    </tr>\n",
       "    <tr>\n",
       "      <th>417</th>\n",
       "      <td>1309</td>\n",
       "      <td>0</td>\n",
       "    </tr>\n",
       "  </tbody>\n",
       "</table>\n",
       "<p>418 rows × 2 columns</p>\n",
       "</div>"
      ],
      "text/plain": [
       "     PassengerId  Survived\n",
       "0            892         0\n",
       "1            893         0\n",
       "2            894         0\n",
       "3            895         0\n",
       "4            896         0\n",
       "..           ...       ...\n",
       "413         1305         0\n",
       "414         1306         1\n",
       "415         1307         0\n",
       "416         1308         0\n",
       "417         1309         0\n",
       "\n",
       "[418 rows x 2 columns]"
      ]
     },
     "execution_count": 29,
     "metadata": {},
     "output_type": "execute_result"
    }
   ],
   "source": [
    "#テスト\n",
    "X_for_submit = test[['Pclass', 'SibSp', 'Parch', 'Sex', 'Fare']]\n",
    "submit = test[['PassengerId']]\n",
    "\n",
    "X_for_submit = pd.get_dummies(X_for_submit, columns=['Pclass', 'Sex'])\n",
    "\n",
    "#nullに平均を入れる\n",
    "X_for_submit['Fare'] = X_for_submit['Fare'].fillna(X_for_submit['Fare'].mean())\n",
    "\n",
    "X_for_submit_sclaed = scaler.transform(X_for_submit)\n",
    "\n",
    "submit['Survived'] = knn.predict(X_for_submit_sclaed)\n",
    "submit"
   ]
  },
  {
   "cell_type": "markdown",
   "id": "a59a67fb",
   "metadata": {
    "papermill": {
     "duration": 0.03975,
     "end_time": "2022-05-30T11:17:09.039831",
     "exception": false,
     "start_time": "2022-05-30T11:17:09.000081",
     "status": "completed"
    },
    "tags": []
   },
   "source": [
    "ここからした（ランダムフォレスト）"
   ]
  },
  {
   "cell_type": "code",
   "execution_count": 30,
   "id": "34e3cd10",
   "metadata": {
    "execution": {
     "iopub.execute_input": "2022-05-30T11:17:09.132741Z",
     "iopub.status.busy": "2022-05-30T11:17:09.132076Z",
     "iopub.status.idle": "2022-05-30T11:17:09.167103Z",
     "shell.execute_reply": "2022-05-30T11:17:09.166445Z"
    },
    "papermill": {
     "duration": 0.085392,
     "end_time": "2022-05-30T11:17:09.169768",
     "exception": false,
     "start_time": "2022-05-30T11:17:09.084376",
     "status": "completed"
    },
    "tags": []
   },
   "outputs": [
    {
     "name": "stdout",
     "output_type": "stream",
     "text": [
      "PassengerId      int64\n",
      "Survived         int64\n",
      "Pclass           int64\n",
      "Name            object\n",
      "Sex             object\n",
      "Age            float64\n",
      "SibSp            int64\n",
      "Parch            int64\n",
      "Ticket          object\n",
      "Fare           float64\n",
      "Cabin           object\n",
      "Embarked        object\n",
      "dtype: object\n",
      "PassengerId      0\n",
      "Pclass           0\n",
      "Name             0\n",
      "Sex              0\n",
      "Age             86\n",
      "SibSp            0\n",
      "Parch            0\n",
      "Ticket           0\n",
      "Fare             1\n",
      "Cabin          327\n",
      "Embarked         0\n",
      "dtype: int64\n"
     ]
    }
   ],
   "source": [
    "train = pd.read_csv(\"../input/titanic/train.csv\")\n",
    "test = pd.read_csv(\"../input/titanic/test.csv\")\n",
    "\n",
    "#型確認\n",
    "print(train.dtypes)\n",
    "\n",
    "#nullがないか確認\n",
    "print(test.isnull().sum())\n",
    "\n",
    "#データ確認\n",
    "train.head()\n",
    "\n",
    "X = train[['Pclass','SibSp','Parch', 'Sex', 'Fare']]\n",
    "y = train[['Survived']]\n",
    "\n",
    "X = pd.get_dummies(X, columns=['Pclass','Sex'])\n",
    "\n",
    "X_train,X_test,y_train,y_test = train_test_split(X, y, random_state=0)\n",
    "\n",
    "#正規化\n",
    "from sklearn.preprocessing import StandardScaler\n",
    "scaler = StandardScaler()\n",
    "#fitパラメータ計算\n",
    "scaler.fit(X_train)\n",
    "#transformパラメータを用いて正規化\n",
    "X_train_sclaed = scaler.transform(X_train)\n",
    "X_test_sclaed = scaler.transform(X_test)"
   ]
  },
  {
   "cell_type": "code",
   "execution_count": 31,
   "id": "21f83d8b",
   "metadata": {
    "execution": {
     "iopub.execute_input": "2022-05-30T11:17:09.274665Z",
     "iopub.status.busy": "2022-05-30T11:17:09.274002Z",
     "iopub.status.idle": "2022-05-30T11:17:09.602318Z",
     "shell.execute_reply": "2022-05-30T11:17:09.601402Z"
    },
    "papermill": {
     "duration": 0.387566,
     "end_time": "2022-05-30T11:17:09.604741",
     "exception": false,
     "start_time": "2022-05-30T11:17:09.217175",
     "status": "completed"
    },
    "tags": []
   },
   "outputs": [
    {
     "name": "stderr",
     "output_type": "stream",
     "text": [
      "/opt/conda/lib/python3.7/site-packages/ipykernel_launcher.py:4: DataConversionWarning: A column-vector y was passed when a 1d array was expected. Please change the shape of y to (n_samples,), for example using ravel().\n",
      "  after removing the cwd from sys.path.\n"
     ]
    },
    {
     "data": {
      "text/plain": [
       "0.8251121076233184"
      ]
     },
     "execution_count": 31,
     "metadata": {},
     "output_type": "execute_result"
    }
   ],
   "source": [
    "from sklearn.ensemble import RandomForestClassifier\n",
    "\n",
    "clf = RandomForestClassifier()\n",
    "clf.fit(X_train_sclaed, y_train)\n",
    "clf.score(X_test_sclaed,y_test)"
   ]
  },
  {
   "cell_type": "code",
   "execution_count": 32,
   "id": "f8d73918",
   "metadata": {
    "execution": {
     "iopub.execute_input": "2022-05-30T11:17:09.691455Z",
     "iopub.status.busy": "2022-05-30T11:17:09.691172Z",
     "iopub.status.idle": "2022-05-30T11:17:09.725780Z",
     "shell.execute_reply": "2022-05-30T11:17:09.724922Z"
    },
    "papermill": {
     "duration": 0.078354,
     "end_time": "2022-05-30T11:17:09.728340",
     "exception": false,
     "start_time": "2022-05-30T11:17:09.649986",
     "status": "completed"
    },
    "tags": []
   },
   "outputs": [
    {
     "name": "stderr",
     "output_type": "stream",
     "text": [
      "/opt/conda/lib/python3.7/site-packages/ipykernel_launcher.py:12: SettingWithCopyWarning: \n",
      "A value is trying to be set on a copy of a slice from a DataFrame.\n",
      "Try using .loc[row_indexer,col_indexer] = value instead\n",
      "\n",
      "See the caveats in the documentation: https://pandas.pydata.org/pandas-docs/stable/user_guide/indexing.html#returning-a-view-versus-a-copy\n",
      "  if sys.path[0] == '':\n"
     ]
    },
    {
     "data": {
      "text/html": [
       "<div>\n",
       "<style scoped>\n",
       "    .dataframe tbody tr th:only-of-type {\n",
       "        vertical-align: middle;\n",
       "    }\n",
       "\n",
       "    .dataframe tbody tr th {\n",
       "        vertical-align: top;\n",
       "    }\n",
       "\n",
       "    .dataframe thead th {\n",
       "        text-align: right;\n",
       "    }\n",
       "</style>\n",
       "<table border=\"1\" class=\"dataframe\">\n",
       "  <thead>\n",
       "    <tr style=\"text-align: right;\">\n",
       "      <th></th>\n",
       "      <th>PassengerId</th>\n",
       "      <th>Survived</th>\n",
       "    </tr>\n",
       "  </thead>\n",
       "  <tbody>\n",
       "    <tr>\n",
       "      <th>0</th>\n",
       "      <td>892</td>\n",
       "      <td>0</td>\n",
       "    </tr>\n",
       "    <tr>\n",
       "      <th>1</th>\n",
       "      <td>893</td>\n",
       "      <td>0</td>\n",
       "    </tr>\n",
       "    <tr>\n",
       "      <th>2</th>\n",
       "      <td>894</td>\n",
       "      <td>0</td>\n",
       "    </tr>\n",
       "    <tr>\n",
       "      <th>3</th>\n",
       "      <td>895</td>\n",
       "      <td>0</td>\n",
       "    </tr>\n",
       "    <tr>\n",
       "      <th>4</th>\n",
       "      <td>896</td>\n",
       "      <td>0</td>\n",
       "    </tr>\n",
       "    <tr>\n",
       "      <th>...</th>\n",
       "      <td>...</td>\n",
       "      <td>...</td>\n",
       "    </tr>\n",
       "    <tr>\n",
       "      <th>413</th>\n",
       "      <td>1305</td>\n",
       "      <td>0</td>\n",
       "    </tr>\n",
       "    <tr>\n",
       "      <th>414</th>\n",
       "      <td>1306</td>\n",
       "      <td>1</td>\n",
       "    </tr>\n",
       "    <tr>\n",
       "      <th>415</th>\n",
       "      <td>1307</td>\n",
       "      <td>0</td>\n",
       "    </tr>\n",
       "    <tr>\n",
       "      <th>416</th>\n",
       "      <td>1308</td>\n",
       "      <td>0</td>\n",
       "    </tr>\n",
       "    <tr>\n",
       "      <th>417</th>\n",
       "      <td>1309</td>\n",
       "      <td>0</td>\n",
       "    </tr>\n",
       "  </tbody>\n",
       "</table>\n",
       "<p>418 rows × 2 columns</p>\n",
       "</div>"
      ],
      "text/plain": [
       "     PassengerId  Survived\n",
       "0            892         0\n",
       "1            893         0\n",
       "2            894         0\n",
       "3            895         0\n",
       "4            896         0\n",
       "..           ...       ...\n",
       "413         1305         0\n",
       "414         1306         1\n",
       "415         1307         0\n",
       "416         1308         0\n",
       "417         1309         0\n",
       "\n",
       "[418 rows x 2 columns]"
      ]
     },
     "execution_count": 32,
     "metadata": {},
     "output_type": "execute_result"
    }
   ],
   "source": [
    "#テスト\n",
    "X_for_submit = test[['Pclass', 'SibSp', 'Parch', 'Sex', 'Fare']]\n",
    "submit = test[['PassengerId']]\n",
    "\n",
    "X_for_submit = pd.get_dummies(X_for_submit, columns=['Pclass', 'Sex'])\n",
    "\n",
    "#nullに平均を入れる\n",
    "X_for_submit['Fare'] = X_for_submit['Fare'].fillna(X_for_submit['Fare'].mean())\n",
    "\n",
    "X_for_submit_sclaed = scaler.transform(X_for_submit)\n",
    "\n",
    "submit['Survived'] = knn.predict(X_for_submit_sclaed)\n",
    "submit"
   ]
  },
  {
   "cell_type": "markdown",
   "id": "2bbd130b",
   "metadata": {
    "papermill": {
     "duration": 0.039489,
     "end_time": "2022-05-30T11:17:09.807505",
     "exception": false,
     "start_time": "2022-05-30T11:17:09.768016",
     "status": "completed"
    },
    "tags": []
   },
   "source": [
    "ここからした（）"
   ]
  },
  {
   "cell_type": "code",
   "execution_count": null,
   "id": "7dcc0a1b",
   "metadata": {
    "papermill": {
     "duration": 0.042516,
     "end_time": "2022-05-30T11:17:09.896679",
     "exception": false,
     "start_time": "2022-05-30T11:17:09.854163",
     "status": "completed"
    },
    "tags": []
   },
   "outputs": [],
   "source": []
  },
  {
   "cell_type": "code",
   "execution_count": null,
   "id": "12ad2524",
   "metadata": {
    "papermill": {
     "duration": 0.039854,
     "end_time": "2022-05-30T11:17:09.977007",
     "exception": false,
     "start_time": "2022-05-30T11:17:09.937153",
     "status": "completed"
    },
    "tags": []
   },
   "outputs": [],
   "source": []
  }
 ],
 "metadata": {
  "kernelspec": {
   "display_name": "Python 3",
   "language": "python",
   "name": "python3"
  },
  "language_info": {
   "codemirror_mode": {
    "name": "ipython",
    "version": 3
   },
   "file_extension": ".py",
   "mimetype": "text/x-python",
   "name": "python",
   "nbconvert_exporter": "python",
   "pygments_lexer": "ipython3",
   "version": "3.7.12"
  },
  "papermill": {
   "default_parameters": {},
   "duration": 15.177258,
   "end_time": "2022-05-30T11:17:10.738710",
   "environment_variables": {},
   "exception": null,
   "input_path": "__notebook__.ipynb",
   "output_path": "__notebook__.ipynb",
   "parameters": {},
   "start_time": "2022-05-30T11:16:55.561452",
   "version": "2.3.4"
  }
 },
 "nbformat": 4,
 "nbformat_minor": 5
}
